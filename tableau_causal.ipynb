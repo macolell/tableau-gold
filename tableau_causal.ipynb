{
 "cells": [
  {
   "cell_type": "code",
   "execution_count": 48,
   "metadata": {},
   "outputs": [],
   "source": [
    "import pandas as pd\n",
    "import numpy as np\n",
    "import statsmodels"
   ]
  },
  {
   "cell_type": "code",
   "execution_count": 49,
   "metadata": {},
   "outputs": [
    {
     "name": "stdout",
     "output_type": "stream",
     "text": [
      "<bound method NDFrame.head of                                   count\n",
      "ACCOUNTKEY                             \n",
      "000018da887ac952b77d51c1e6826a4a     13\n",
      "000682dbae7a366c6acece0989c5251b     11\n",
      "000e29f3849ed00bf0d7a819016c24ee      3\n",
      "0013a2c7fb8854e45b6656d236b62a5a     17\n",
      "0017433f167d6004b0356f8f21d0c08a      1\n",
      "...                                 ...\n",
      "fffbea9bb73eae66096240121bca0a55     47\n",
      "fffc42e981785ef6df8b21d30e5389f5      1\n",
      "fffcc63901bbf695985ef18b0a0f4b40      4\n",
      "ffff15c523999dce650e7fa84b5eba62      2\n",
      "ffff4cc2e89bbf08e5f5a0aa953a7613      2\n",
      "\n",
      "[32564 rows x 1 columns]>\n"
     ]
    }
   ],
   "source": [
    "cases = pd.read_csv('/Users/michaelcolellajensen/Desktop/Tableau/support_cases_fact.csv')\n",
    "cases_by_account = cases.groupby('ACCOUNTKEY')['CASE_NUMBER'].agg(['count'])\n",
    "print(cases_by_account.head)"
   ]
  },
  {
   "cell_type": "code",
   "execution_count": 50,
   "metadata": {},
   "outputs": [
    {
     "name": "stdout",
     "output_type": "stream",
     "text": [
      "(183669, 35)\n",
      "183669\n"
     ]
    }
   ],
   "source": [
    "case_oppertunity = pd.read_csv('/Users/michaelcolellajensen/Desktop/Tableau/case_oppertunities.csv')\n",
    "case_text = pd.read_csv('/Users/michaelcolellajensen/Desktop/Tableau/support_cases_text_fact.csv')\n",
    "print(case_oppertunity.shape)\n",
    "print(case_oppertunity['CASE_NUMBER'].nunique())\n",
    "case_oppertunity['completetion_time'] = pd.to_datetime(case_oppertunity['CLOSED_DATE']) - pd.to_datetime(case_oppertunity['CREATED_DATE'])"
   ]
  },
  {
   "cell_type": "code",
   "execution_count": 51,
   "metadata": {},
   "outputs": [
    {
     "name": "stdout",
     "output_type": "stream",
     "text": [
      "Index(['Unnamed: 0', 'STATUS', 'PRIORITY', 'IMPACT', 'ORIGIN', 'PRODUCT',\n",
      "       'CATEGORY', 'SUBCATEGORY', 'CREATED_DATE', 'CLOSED_DATE',\n",
      "       'CASE_CLOSED_REASON', 'RECORDTYPE', 'CASE_NUMBER', 'ACCOUNTKEY',\n",
      "       'ACCOUNTTYPE', 'ACCOUNTTYPEDETAIL', 'EMPLOYEECOUNT', 'THEATER',\n",
      "       'SUBREGION', 'SEGMENT', 'SUBSEGMENT', 'Tenure', 'Zero.Revenue.Flag',\n",
      "       'Einstein Analytics', 'Role Based - Online', 'Server', 'Saas',\n",
      "       'Role Based - On Prem', 'Services', 'Desktop', 'Role Based - NonProd',\n",
      "       'Other', 'CLOSEDATE', 'ISWON', 'ISPARTNERRELATED', 'completetion_time',\n",
      "       'count'],\n",
      "      dtype='object')\n"
     ]
    }
   ],
   "source": [
    "case_oppertunity = case_oppertunity.merge(cases_by_account,\n",
    "                                          on = 'ACCOUNTKEY',\n",
    "                                          how='left')\n",
    "print(case_oppertunity.columns)"
   ]
  },
  {
   "cell_type": "code",
   "execution_count": 52,
   "metadata": {},
   "outputs": [
    {
     "name": "stderr",
     "output_type": "stream",
     "text": [
      "/var/folders/t_/rcfcs8g56jn7trwnsvmdyh_r0000gn/T/ipykernel_17523/2754767065.py:1: FutureWarning: casting timedelta64[ns] values to int64 with .astype(...) is deprecated and will raise in a future version. Use .view(...) instead.\n",
      "  case_oppertunity['completetion_time'] = case_oppertunity['completetion_time'].astype('int')\n"
     ]
    }
   ],
   "source": [
    "case_oppertunity['completetion_time'] = case_oppertunity['completetion_time'].astype('int')"
   ]
  },
  {
   "cell_type": "code",
   "execution_count": 54,
   "metadata": {},
   "outputs": [
    {
     "name": "stdout",
     "output_type": "stream",
     "text": [
      "(183669, 170)\n"
     ]
    }
   ],
   "source": [
    "case_categories = case_oppertunity[['STATUS','PRIORITY', 'IMPACT', 'ORIGIN', 'PRODUCT',\n",
    "                                    'ACCOUNTTYPE', 'ACCOUNTTYPEDETAIL','THEATER',\n",
    "                                    'SUBREGION', 'SEGMENT', 'SUBSEGMENT']]\n",
    "case_descrete = case_oppertunity[['Tenure', 'completetion_time', 'count', 'EMPLOYEECOUNT']]\n",
    "case_one_hot_encode = pd.get_dummies(case_categories)\n",
    "case_features = pd.concat([case_one_hot_encode, \n",
    "                           case_descrete],\n",
    "                          axis=1)\n",
    "print(case_features.shape)\n",
    "labels = case_oppertunity['ISWON']\n",
    "case_features.drop(case_features.columns[169], axis=1, inplace=True)\n",
    "case_features['completetion_time'] = case_features['completetion_time'].astype('int')"
   ]
  },
  {
   "cell_type": "code",
   "execution_count": null,
   "metadata": {},
   "outputs": [],
   "source": [
    "print(case_features.describe())"
   ]
  },
  {
   "cell_type": "code",
   "execution_count": 65,
   "metadata": {},
   "outputs": [
    {
     "name": "stdout",
     "output_type": "stream",
     "text": [
      "                            OLS Regression Results                            \n",
      "==============================================================================\n",
      "Dep. Variable:                  ISWON   R-squared:                       0.113\n",
      "Model:                            OLS   Adj. R-squared:                  0.112\n",
      "Method:                 Least Squares   F-statistic:                     155.4\n",
      "Date:                Thu, 12 May 2022   Prob (F-statistic):               0.00\n",
      "Time:                        18:32:25   Log-Likelihood:            -1.0578e+05\n",
      "No. Observations:              183669   AIC:                         2.119e+05\n",
      "Df Residuals:                  183518   BIC:                         2.134e+05\n",
      "Df Model:                         150                                         \n",
      "Covariance Type:            nonrobust                                         \n",
      "=================================================================================================================\n",
      "                                                    coef    std err          t      P>|t|      [0.025      0.975]\n",
      "-----------------------------------------------------------------------------------------------------------------\n",
      "Tenure                                           -0.0024      0.001     -2.313      0.021      -0.004      -0.000\n",
      "completetion_time                                -0.0075      0.001     -6.182      0.000      -0.010      -0.005\n",
      "count                                             0.1004      0.001     73.241      0.000       0.098       0.103\n",
      "EMPLOYEECOUNT                                     0.0068      0.001      6.366      0.000       0.005       0.009\n",
      "STATUS_Closed                                     0.0396      0.016      2.508      0.012       0.009       0.071\n",
      "STATUS_Confirmation Requested                     0.0220      0.016      1.384      0.166      -0.009       0.053\n",
      "STATUS_Pending Customer                           0.0239      0.016      1.501      0.133      -0.007       0.055\n",
      "STATUS_Resolved                                   0.0239      0.016      1.516      0.129      -0.007       0.055\n",
      "PRIORITY_--None--                                -0.0744      0.256     -0.291      0.771      -0.576       0.427\n",
      "PRIORITY_None                                    -0.0206      0.043     -0.481      0.631      -0.104       0.063\n",
      "PRIORITY_P1                                       0.0279      0.037      0.758      0.448      -0.044       0.100\n",
      "PRIORITY_P2                                       0.0396      0.037      1.076      0.282      -0.033       0.112\n",
      "PRIORITY_P3                                       0.0400      0.037      1.086      0.278      -0.032       0.112\n",
      "PRIORITY_P4                                       0.0333      0.037      0.903      0.366      -0.039       0.105\n",
      "PRIORITY_P5                                       0.0445      0.038      1.157      0.247      -0.031       0.120\n",
      "PRIORITY_Pre-Support                              0.0191      0.080      0.237      0.813      -0.139       0.177\n",
      "IMPACT_--None--                                   0.0514      0.197      0.261      0.794      -0.335       0.438\n",
      "IMPACT_Capacity reduced                          -0.0010      0.040     -0.024      0.981      -0.079       0.077\n",
      "IMPACT_Complete work stoppage                     0.0501      0.041      1.215      0.224      -0.031       0.131\n",
      "IMPACT_Concern for Deadline                      -0.0057      0.061     -0.093      0.926      -0.125       0.114\n",
      "IMPACT_Feature or Enhancement Request            -0.1195      0.128     -0.931      0.352      -0.371       0.132\n",
      "IMPACT_Inconvenience                              0.0317      0.053      0.592      0.554      -0.073       0.136\n",
      "IMPACT_Majority of Users                         -0.0257      0.026     -0.978      0.328      -0.077       0.026\n",
      "IMPACT_Minority of Users                         -0.0252      0.026     -0.959      0.337      -0.077       0.026\n",
      "IMPACT_None                                      -0.0169      0.027     -0.636      0.525      -0.069       0.035\n",
      "IMPACT_Work severely impacted                     0.0296      0.038      0.784      0.433      -0.044       0.104\n",
      "IMPACT_Work slowed                                0.1405      0.047      3.009      0.003       0.049       0.232\n",
      "ORIGIN_AR Email                                  -0.3133      0.423     -0.741      0.459      -1.142       0.516\n",
      "ORIGIN_AWS Support                                0.6502      0.302      2.155      0.031       0.059       1.242\n",
      "ORIGIN_Auto Reply                                -0.3793      0.424     -0.895      0.371      -1.210       0.451\n",
      "ORIGIN_CSLeads Email                             -0.1612      0.423     -0.381      0.703      -0.990       0.668\n",
      "ORIGIN_Certification Email                        0.4571      0.424      1.079      0.281      -0.373       1.287\n",
      "ORIGIN_Customer Service                           0.0554      0.069      0.799      0.424      -0.081       0.191\n",
      "ORIGIN_CustomerService Email                     -0.0388      0.037     -1.047      0.295      -0.111       0.034\n",
      "ORIGIN_Deal Desk Email                           -0.0710      0.086     -0.823      0.411      -0.240       0.098\n",
      "ORIGIN_Email                                     -0.0076      0.041     -0.185      0.853      -0.088       0.073\n",
      "ORIGIN_Email - GS                                 0.0873      0.214      0.408      0.684      -0.332       0.507\n",
      "ORIGIN_Enhancement Request Form                  -0.0546      0.146     -0.375      0.708      -0.340       0.231\n",
      "ORIGIN_LicenseSupport Email                       0.5575      0.423      1.318      0.188      -0.272       1.387\n",
      "ORIGIN_OEM Email                                 -0.2650      0.176     -1.506      0.132      -0.610       0.080\n",
      "ORIGIN_Old Support                               -0.1356      0.424     -0.320      0.749      -0.967       0.696\n",
      "ORIGIN_Online                                    -0.0154      0.099     -0.156      0.876      -0.209       0.179\n",
      "ORIGIN_Other                                     -0.0675      0.037     -1.843      0.065      -0.139       0.004\n",
      "ORIGIN_Partner Portal                            -0.0439      0.041     -1.073      0.283      -0.124       0.036\n",
      "ORIGIN_Partners Email                             0.0247      0.085      0.292      0.771      -0.141       0.191\n",
      "ORIGIN_Phone                                     -0.1129      0.042     -2.675      0.007      -0.196      -0.030\n",
      "ORIGIN_Portal                                    -0.0709      0.036     -1.946      0.052      -0.142       0.001\n",
      "ORIGIN_Prep                                      -0.0346      0.053     -0.652      0.514      -0.139       0.069\n",
      "ORIGIN_Pro                                       -0.0473      0.038     -1.243      0.214      -0.122       0.027\n",
      "ORIGIN_Public                                    -0.1667      0.132     -1.261      0.207      -0.426       0.092\n",
      "ORIGIN_Reader                                    -0.0679      0.192     -0.353      0.724      -0.445       0.309\n",
      "ORIGIN_RegHelp                                   -0.0840      0.069     -1.212      0.225      -0.220       0.052\n",
      "ORIGIN_Related Case - CS                          0.0361      0.102      0.355      0.722      -0.163       0.235\n",
      "ORIGIN_Related Case - DD                          0.6102      0.423      1.442      0.149      -0.219       1.439\n",
      "ORIGIN_Related Case - DIT                         0.4487      0.424      1.058      0.290      -0.382       1.280\n",
      "ORIGIN_Related Case - GS                         -0.3664      0.423     -0.866      0.386      -1.196       0.463\n",
      "ORIGIN_Related Case - LS                          0.1723      0.300      0.574      0.566      -0.416       0.761\n",
      "ORIGIN_Related Case - OEM                         0.1811      0.300      0.603      0.547      -0.408       0.770\n",
      "ORIGIN_Related Case - Security                   -0.3101      0.423     -0.733      0.464      -1.139       0.519\n",
      "ORIGIN_Related Case - US                         -0.0513      0.038     -1.362      0.173      -0.125       0.023\n",
      "ORIGIN_Rep                                        0.0382      0.047      0.812      0.417      -0.054       0.130\n",
      "ORIGIN_SSR Email - APAC                          -0.3145      0.423     -0.743      0.457      -1.144       0.515\n",
      "ORIGIN_SSR Email - Amer                           0.2330      0.301      0.775      0.438      -0.356       0.822\n",
      "ORIGIN_SalesOps Request UI - Account              0.2543      0.300      0.847      0.397      -0.334       0.843\n",
      "ORIGIN_SalesOps Request UI - Contact             -0.3773      0.423     -0.892      0.372      -1.206       0.452\n",
      "ORIGIN_Server                                    -0.0420      0.053     -0.788      0.431      -0.147       0.062\n",
      "ORIGIN_Special Program                           -0.0072      0.163     -0.044      0.965      -0.328       0.313\n",
      "ORIGIN_Standard                                  -0.1184      0.099     -1.196      0.232      -0.312       0.076\n",
      "ORIGIN_Support Email                             -0.0230      0.072     -0.319      0.749      -0.164       0.118\n",
      "ORIGIN_Tableau Doctor                            -0.0144      0.038     -0.380      0.704      -0.088       0.060\n",
      "ORIGIN_Tableau Online                            -0.0537      0.057     -0.942      0.346      -0.165       0.058\n",
      "ORIGIN_Tableau Online Support Email               0.1562      0.192      0.813      0.416      -0.220       0.533\n",
      "ORIGIN_Web                                       -0.0267      0.036     -0.733      0.464      -0.098       0.045\n",
      "ORIGIN_unlicensed                                -0.0105      0.118     -0.088      0.930      -0.243       0.222\n",
      "PRODUCT_Connector SDK                            -0.0835      0.093     -0.894      0.372      -0.267       0.100\n",
      "PRODUCT_Extract API                               0.0496      0.073      0.675      0.500      -0.094       0.194\n",
      "PRODUCT_Hyper API                                -0.1009      0.090     -1.126      0.260      -0.277       0.075\n",
      "PRODUCT_Non-Technical Issues                     -0.0206      0.037     -0.557      0.578      -0.093       0.052\n",
      "PRODUCT_Not Product Related                       0.0920      0.038      2.427      0.015       0.018       0.166\n",
      "PRODUCT_Other                                     0.0577      0.036      1.590      0.112      -0.013       0.129\n",
      "PRODUCT_Tableau Bridge                           -0.0178      0.031     -0.579      0.562      -0.078       0.042\n",
      "PRODUCT_Tableau Content Migration Tool            0.0850      0.045      1.880      0.060      -0.004       0.174\n",
      "PRODUCT_Tableau Desktop                           0.0434      0.027      1.585      0.113      -0.010       0.097\n",
      "PRODUCT_Tableau Desktop + Server                 -0.2548      0.298     -0.854      0.393      -0.840       0.330\n",
      "PRODUCT_Tableau Mobile                            0.0451      0.031      1.453      0.146      -0.016       0.106\n",
      "PRODUCT_Tableau Online                            0.0631      0.028      2.292      0.022       0.009       0.117\n",
      "PRODUCT_Tableau Prep                              0.0947      0.028      3.378      0.001       0.040       0.150\n",
      "PRODUCT_Tableau Prep Builder                      0.0065      0.029      0.225      0.822      -0.050       0.063\n",
      "PRODUCT_Tableau Public                           -0.0276      0.411     -0.067      0.946      -0.834       0.779\n",
      "PRODUCT_Tableau Public Desktop                   -0.0060      0.042     -0.143      0.886      -0.088       0.076\n",
      "PRODUCT_Tableau Public Server                    -0.0021      0.034     -0.062      0.950      -0.069       0.065\n",
      "PRODUCT_Tableau Reader                           -0.0006      0.035     -0.018      0.985      -0.069       0.068\n",
      "PRODUCT_Tableau Resource Monitoring Tool          0.0453      0.048      0.951      0.342      -0.048       0.139\n",
      "PRODUCT_Tableau Server                            0.0409      0.027      1.493      0.135      -0.013       0.094\n",
      "ACCOUNTTYPE_Partner                               0.0483      0.032      1.531      0.126      -0.014       0.110\n",
      "ACCOUNTTYPE_Sales                                 0.0611      0.031      1.941      0.052      -0.001       0.123\n",
      "ACCOUNTTYPEDETAIL_Commercial                      0.0087      0.011      0.797      0.426      -0.013       0.030\n",
      "ACCOUNTTYPEDETAIL_EDU - Enterprise                0.2051      0.013     15.959      0.000       0.180       0.230\n",
      "ACCOUNTTYPEDETAIL_Education                      -0.0453      0.012     -3.775      0.000      -0.069      -0.022\n",
      "ACCOUNTTYPEDETAIL_Enterprise                      0.0307      0.011      2.833      0.005       0.009       0.052\n",
      "ACCOUNTTYPEDETAIL_NetHope Members                -0.0841      0.035     -2.386      0.017      -0.153      -0.015\n",
      "ACCOUNTTYPEDETAIL_Not For Profit                 -0.0465      0.012     -3.938      0.000      -0.070      -0.023\n",
      "ACCOUNTTYPEDETAIL_Not for Profit - Enterprise     0.0408      0.018      2.238      0.025       0.005       0.076\n",
      "THEATER_AMER                                      0.0676      0.021      3.210      0.001       0.026       0.109\n",
      "THEATER_APAC                                      0.0414      0.036      1.156      0.248      -0.029       0.112\n",
      "THEATER_EMEA                                      0.0210      0.046      0.455      0.649      -0.069       0.111\n",
      "THEATER_TSI                                      -0.0094      0.016     -0.582      0.561      -0.041       0.022\n",
      "THEATER_USCA                                     -0.0112      0.025     -0.454      0.650      -0.059       0.037\n",
      "SUBREGION_ANZ                                    -0.0086      0.008     -1.053      0.292      -0.025       0.007\n",
      "SUBREGION_Africa                                 -0.0350      0.037     -0.943      0.346      -0.108       0.038\n",
      "SUBREGION_Benelux                                -0.0020      0.035     -0.056      0.955      -0.071       0.067\n",
      "SUBREGION_Brazil                                 -0.0462      0.050     -0.915      0.360      -0.145       0.053\n",
      "SUBREGION_Canada                                  0.0080      0.050      0.160      0.873      -0.090       0.106\n",
      "SUBREGION_Central                                -0.0249      0.097     -0.257      0.797      -0.214       0.165\n",
      "SUBREGION_Central Eastern Europe                 -0.0086      0.036     -0.242      0.809      -0.079       0.061\n",
      "SUBREGION_Commonwealth of Independent States     -0.1114      0.397     -0.281      0.779      -0.889       0.667\n",
      "SUBREGION_DACH                                    0.0377      0.034      1.098      0.272      -0.030       0.105\n",
      "SUBREGION_East                                   -0.0156      0.085     -0.184      0.854      -0.182       0.151\n",
      "SUBREGION_France                                 -0.0066      0.035     -0.189      0.850      -0.075       0.062\n",
      "SUBREGION_Greater China                          -0.0325      0.008     -4.134      0.000      -0.048      -0.017\n",
      "SUBREGION_India                                  -0.0045      0.008     -0.566      0.571      -0.020       0.011\n",
      "SUBREGION_Israel                                  0.1129      0.036      3.126      0.002       0.042       0.184\n",
      "SUBREGION_Japan                                   0.0512      0.007      7.185      0.000       0.037       0.065\n",
      "SUBREGION_Mediterranean                           0.0272      0.038      0.711      0.477      -0.048       0.102\n",
      "SUBREGION_Mexico                                 -0.0852      0.052     -1.646      0.100      -0.187       0.016\n",
      "SUBREGION_Middle East                            -0.0390      0.035     -1.110      0.267      -0.108       0.030\n",
      "SUBREGION_Nordics                                 0.0893      0.035      2.530      0.011       0.020       0.158\n",
      "SUBREGION_RoLAC                                  -0.0417      0.050     -0.827      0.408      -0.140       0.057\n",
      "SUBREGION_SEA                                     0.0269      0.008      3.394      0.001       0.011       0.042\n",
      "SUBREGION_South Korea                             0.0091      0.012      0.779      0.436      -0.014       0.032\n",
      "SUBREGION_Southern Europe                        -0.0564      0.036     -1.590      0.112      -0.126       0.013\n",
      "SUBREGION_TSI                                    -0.0094      0.016     -0.582      0.561      -0.041       0.022\n",
      "SUBREGION_UK                                      0.0128      0.034      0.374      0.709      -0.054       0.080\n",
      "SUBREGION_US - CBS                                0.0748      0.021      3.606      0.000       0.034       0.115\n",
      "SUBREGION_US - CMT                                0.0564      0.021      2.727      0.006       0.016       0.097\n",
      "SUBREGION_US - EDU & NGO                         -0.0232      0.067     -0.346      0.729      -0.155       0.108\n",
      "SUBREGION_US - HLS                                0.1778      0.169      1.053      0.292      -0.153       0.509\n",
      "SUBREGION_US - MFG                               -0.2466      0.226     -1.090      0.276      -0.690       0.197\n",
      "SUBREGION_US - Public Sector                      0.1472      0.050      2.930      0.003       0.049       0.246\n",
      "SUBREGION_US - Retail                             0.0034      0.021      0.161      0.872      -0.037       0.044\n",
      "SUBREGION_US - SMB                                0.0221      0.050      0.445      0.656      -0.075       0.119\n",
      "SUBREGION_USCA - Financial Services               0.3954      0.399      0.992      0.321      -0.386       1.176\n",
      "SUBREGION_USCA - Geo                             -0.3026      0.170     -1.783      0.075      -0.635       0.030\n",
      "SUBREGION_West                                   -0.0428      0.078     -0.548      0.584      -0.196       0.110\n",
      "SEGMENT_Business Services                         0.0748      0.021      3.606      0.000       0.034       0.115\n",
      "SEGMENT_CPG & MFG                                -0.1143      0.394     -0.290      0.772      -0.886       0.657\n",
      "SEGMENT_Commercial                                0.1099      0.072      1.523      0.128      -0.032       0.251\n",
      "SEGMENT_Communications, Media, & Technology       0.0564      0.021      2.727      0.006       0.016       0.097\n",
      "SEGMENT_EDU & NGO                                -0.0232      0.067     -0.346      0.729      -0.155       0.108\n",
      "SEGMENT_Enterprise                                0.0424      0.072      0.588      0.557      -0.099       0.184\n",
      "SEGMENT_Financial Services                       -0.2644      0.387     -0.683      0.495      -1.023       0.494\n",
      "SEGMENT_Healthcare & Life Sciences               -0.0746      0.171     -0.435      0.663      -0.411       0.261\n",
      "SEGMENT_Manufacturing                             0.3147      0.234      1.347      0.178      -0.143       0.773\n",
      "SEGMENT_Public Sector                            -0.0558      0.073     -0.769      0.442      -0.198       0.086\n",
      "SEGMENT_Retail & CG                               0.0034      0.021      0.161      0.872      -0.037       0.044\n",
      "SEGMENT_SMB                                       0.0495      0.072      0.685      0.494      -0.092       0.191\n",
      "SEGMENT_TSI                                      -0.0094      0.016     -0.582      0.561      -0.041       0.022\n",
      "SUBSEGMENT_Commercial                            -0.1800      0.401     -0.449      0.653      -0.966       0.605\n",
      "SUBSEGMENT_ESB                                   -0.1379      0.115     -1.201      0.230      -0.363       0.087\n",
      "SUBSEGMENT_EUC                                    0.0842      0.431      0.195      0.845      -0.761       0.930\n",
      "SUBSEGMENT_Enterprise                             0.1045      0.063      1.661      0.097      -0.019       0.228\n",
      "SUBSEGMENT_Essentials                             0.0300      0.105      0.286      0.775      -0.175       0.235\n",
      "SUBSEGMENT_GB                                    -0.0273      0.063     -0.433      0.665      -0.151       0.096\n",
      "SUBSEGMENT_GRB                                    0.0414      0.112      0.369      0.712      -0.179       0.261\n",
      "SUBSEGMENT_MM                                    -0.0604      0.063     -0.959      0.338      -0.184       0.063\n",
      "SUBSEGMENT_Manufacturing                          0.5932      0.207      2.870      0.004       0.188       0.998\n",
      "SUBSEGMENT_Public Sector                         -0.0774      0.208     -0.372      0.710      -0.486       0.331\n",
      "SUBSEGMENT_SB                                    -0.2124      0.173     -1.225      0.221      -0.552       0.127\n",
      "SUBSEGMENT_SMB                                   -0.0390      0.063     -0.619      0.536      -0.162       0.084\n",
      "SUBSEGMENT_TSI                                   -0.0094      0.016     -0.582      0.561      -0.041       0.022\n",
      "==============================================================================\n",
      "Omnibus:                    35488.537   Durbin-Watson:                   1.912\n",
      "Prob(Omnibus):                  0.000   Jarque-Bera (JB):            27415.843\n",
      "Skew:                           0.849   Prob(JB):                         0.00\n",
      "Kurtosis:                       2.163   Cond. No.                     1.75e+16\n",
      "==============================================================================\n",
      "\n",
      "Notes:\n",
      "[1] Standard Errors assume that the covariance matrix of the errors is correctly specified.\n",
      "[2] The smallest eigenvalue is 2.51e-27. This might indicate that there are\n",
      "strong multicollinearity problems or that the design matrix is singular.\n"
     ]
    }
   ],
   "source": [
    "import statsmodels.api as sm\n",
    "from sklearn.preprocessing import StandardScaler\n",
    "\n",
    "scaler = StandardScaler()\n",
    "data_scaled = scaler.fit_transform(case_descrete)\n",
    "scaled_case = pd.DataFrame(data_scaled, \n",
    "                         columns = case_descrete.columns)\n",
    "case_causal_features = pd.concat([scaled_case, case_one_hot_encode], axis=1)\n",
    "log_model = sm.OLS(labels, case_causal_features).fit()\n",
    "print(log_model.summary())"
   ]
  }
 ],
 "metadata": {
  "interpreter": {
   "hash": "31f2aee4e71d21fbe5cf8b01ff0e069b9275f58929596ceb00d14d90e3e16cd6"
  },
  "kernelspec": {
   "display_name": "Python 3.8.9 64-bit",
   "language": "python",
   "name": "python3"
  },
  "language_info": {
   "codemirror_mode": {
    "name": "ipython",
    "version": 3
   },
   "file_extension": ".py",
   "mimetype": "text/x-python",
   "name": "python",
   "nbconvert_exporter": "python",
   "pygments_lexer": "ipython3",
   "version": "3.8.9"
  },
  "orig_nbformat": 4
 },
 "nbformat": 4,
 "nbformat_minor": 2
}
