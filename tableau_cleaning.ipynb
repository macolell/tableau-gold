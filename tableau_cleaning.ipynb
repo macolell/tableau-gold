{
 "cells": [
  {
   "cell_type": "code",
   "execution_count": 4,
   "metadata": {},
   "outputs": [],
   "source": [
    "import pandas as pd\n",
    "import numpy as np"
   ]
  },
  {
   "cell_type": "code",
   "execution_count": 5,
   "metadata": {},
   "outputs": [],
   "source": [
    "#read in data\n",
    "account_dim = pd.read_csv('/Users/michaelcolellajensen/Desktop/Tableau/account_dimensions.csv')\n",
    "case_notes = pd.read_csv('/Users/michaelcolellajensen/Desktop/Tableau/case_notes_pii_redacted_fact.csv')\n",
    "support_fact = pd.read_csv('/Users/michaelcolellajensen/Desktop/Tableau/support_cases_fact.csv')\n",
    "oppertunity_fact = pd.read_csv('/Users/michaelcolellajensen/Desktop/Tableau/opportunity_fact.csv')\n",
    "date_dim = pd.read_csv('/Users/michaelcolellajensen/Desktop/Tableau/date_dimensions.csv')\n",
    "tenure = pd.read_csv('/Users/michaelcolellajensen/Desktop/Tableau/account_tenure_by_month.csv',  encoding = 'unicode_escape', engine ='python')"
   ]
  },
  {
   "cell_type": "code",
   "execution_count": 6,
   "metadata": {},
   "outputs": [
    {
     "name": "stdout",
     "output_type": "stream",
     "text": [
      "1\n",
      "(205061, 27)\n"
     ]
    }
   ],
   "source": [
    "#join supoprt tickets with account_dim\n",
    "support_account = support_fact.merge(account_dim,\n",
    "                                     on='ACCOUNTKEY',\n",
    "                                     how='left')\n",
    "support_account = support_account.drop_duplicates(subset='CASE_NUMBER')\n",
    "\n",
    "print(support_account['CASE_NUMBER'].value_counts().max())\n",
    "print(support_account.shape)"
   ]
  },
  {
   "cell_type": "code",
   "execution_count": 19,
   "metadata": {},
   "outputs": [
    {
     "name": "stdout",
     "output_type": "stream",
     "text": [
      "(183669, 22)\n",
      "Index(['STATUS', 'PRIORITY', 'IMPACT', 'ORIGIN', 'PRODUCT', 'CATEGORY',\n",
      "       'SUBCATEGORY', 'CREATED_DATE', 'CLOSED_DATE', 'CASE_CLOSED_REASON',\n",
      "       'RECORDTYPE', 'CASE_NUMBER', 'ACCOUNTKEY', 'ACCOUNTTYPE',\n",
      "       'ACCOUNTTYPEDETAIL', 'EMPLOYEECOUNT', 'THEATER', 'SUBREGION', 'SEGMENT',\n",
      "       'SUBSEGMENT', 'Tenure', 'Zero.Revenue.Flag'],\n",
      "      dtype='object')\n",
      "STATUS                0\n",
      "PRIORITY              0\n",
      "IMPACT                0\n",
      "ORIGIN                0\n",
      "PRODUCT               0\n",
      "CATEGORY              0\n",
      "SUBCATEGORY           0\n",
      "CREATED_DATE          0\n",
      "CLOSED_DATE           0\n",
      "CASE_CLOSED_REASON    0\n",
      "RECORDTYPE            0\n",
      "CASE_NUMBER           0\n",
      "ACCOUNTKEY            0\n",
      "ACCOUNTTYPE           0\n",
      "ACCOUNTTYPEDETAIL     0\n",
      "EMPLOYEECOUNT         0\n",
      "THEATER               0\n",
      "SUBREGION             0\n",
      "SEGMENT               0\n",
      "SUBSEGMENT            0\n",
      "Tenure                0\n",
      "Zero.Revenue.Flag     0\n",
      "dtype: int64\n"
     ]
    }
   ],
   "source": [
    "#join support_account table with tenure_dim\n",
    "support_accounts = support_account.merge(tenure,\n",
    "                                         on='ACCOUNTKEY',\n",
    "                                         how='left')\n",
    "#dropping duplicated from left join\n",
    "support_accounts = support_accounts.drop_duplicates(subset='CASE_NUMBER')\n",
    "#dropping useless cols\n",
    "support_accounts = support_accounts.drop(['Unnamed: 0_x', 'PREFERRED_CASE_LANGUAGE',\n",
    "                                          'Unnamed: 0_y', 'REGION_y', 'REGION_x',\n",
    "                                          'PARENTACCOUNTKEY', 'TOPPARENTACCOUNTKEY',\n",
    "                                          'ï..Tenure.Date.Value', 'Unnamed: 0'], axis =1)\n",
    "#filter support_accounts\n",
    "support_accounts = support_accounts[(support_accounts['ACCOUNTKEY'].isna() != True) &\n",
    "                                    (support_accounts['Zero.Revenue.Flag'].isna() != True)]\n",
    "#define a dict to fill NAs\n",
    "fill_dict = {'PRIORITY':'None',\n",
    "             'IMPACT': 'None',\n",
    "             'ORIGIN': 'Other',\n",
    "             'PRODUCT': 'Other',\n",
    "             'CATEGORY': 'Other',\n",
    "             'SUBCATEGORY': 'None',\n",
    "             'CASE_CLOSED_REASON': 'None',\n",
    "             'EMPLOYEECOUNT': 0}\n",
    "support_accounts.fillna(value = fill_dict, inplace=True)\n",
    "#sanity check\n",
    "print(support_accounts.shape)\n",
    "print(support_accounts.columns)\n",
    "print(support_accounts.isna().sum())"
   ]
  },
  {
   "cell_type": "code",
   "execution_count": 21,
   "metadata": {},
   "outputs": [
    {
     "name": "stdout",
     "output_type": "stream",
     "text": [
      "Index(['Unnamed: 0', 'CREATEDDATE', 'CLOSEDATE', 'ISUPGRADE', 'ISCLOSED',\n",
      "       'ISWON', 'NUMBEROFDESKTOPLICENSES', 'NUMBEROFINTERACTORS',\n",
      "       'NUMBEROFCORES', 'QUANTITY', 'TERMLENGTH',\n",
      "       'COMPARATIVESALESCREDITAMOUNT', 'ACV', 'PRODUCTTYPE', 'PRODUCTGROUP',\n",
      "       'PRODUCTSUBCATEGORY', 'IS_INCLUDED_IN_ATTAINMENT', 'ACCOUNTKEY',\n",
      "       'OPPORTUNITYID', 'OPPORTUNITYLINEITEMID'],\n",
      "      dtype='object')\n",
      "(1268070, 20)\n",
      "Unnamed: 0                      0\n",
      "CREATEDDATE                     0\n",
      "CLOSEDATE                       0\n",
      "ISUPGRADE                       0\n",
      "ISCLOSED                        0\n",
      "ISWON                           0\n",
      "NUMBEROFDESKTOPLICENSES         0\n",
      "NUMBEROFINTERACTORS             0\n",
      "NUMBEROFCORES                   0\n",
      "QUANTITY                        0\n",
      "TERMLENGTH                      0\n",
      "COMPARATIVESALESCREDITAMOUNT    0\n",
      "ACV                             0\n",
      "PRODUCTTYPE                     0\n",
      "PRODUCTGROUP                    0\n",
      "PRODUCTSUBCATEGORY              0\n",
      "IS_INCLUDED_IN_ATTAINMENT       0\n",
      "ACCOUNTKEY                      0\n",
      "OPPORTUNITYID                   0\n",
      "OPPORTUNITYLINEITEMID           0\n",
      "dtype: int64\n"
     ]
    }
   ],
   "source": [
    "#filter opertunities \n",
    "closed_sales = oppertunity_fact[(oppertunity_fact['PRODUCTTYPE'] != 'Maintenance Renewal') &\n",
    "                                (oppertunity_fact['ISCLOSED'] == True) &\n",
    "                                (oppertunity_fact['COMPARATIVESALESCREDITAMOUNT'] >0) &\n",
    "                                (oppertunity_fact['TERMLENGTH'] >0) &\n",
    "                                (oppertunity_fact['PRODUCTGROUP'].isna() != True) &\n",
    "                                (oppertunity_fact['ACCOUNTKEY'].isna() != True)]\n",
    "#dropping useless cols\n",
    "closed_sales = closed_sales.drop(['ORIGINAL_SALES_DATE', 'ISDELETED', 'ISPARTNERRELATED',\n",
    "                                  'CAPACITYCOUNT', 'MAINTENANCESTARTDATE', \n",
    "                                  'MAINTENANCEENDDATE', 'PRODUCTTYPEOVERALL',\n",
    "                                  'PRODUCTCATEGORY', 'STAGENAME', 'CONSOLIDATEDREASON',\n",
    "                                  'PARTNERACCOUNTKEY', 'CONVERSIONOPPORTUNITYID'], axis =1)\n",
    "print(closed_sales.columns)\n",
    "print(closed_sales.shape)\n",
    "print(closed_sales.isna().sum())"
   ]
  },
  {
   "cell_type": "code",
   "execution_count": 23,
   "metadata": {},
   "outputs": [],
   "source": [
    "#closed_sales.to_csv('/Users/michaelcolellajensen/Desktop/Tableau/cleaned_oppertunity_fact.csv')\n",
    "#support_accounts.to_csv('/Users/michaelcolellajensen/Desktop/Tableau/cleaned_suportcases_accounts.csv')"
   ]
  }
 ],
 "metadata": {
  "interpreter": {
   "hash": "31f2aee4e71d21fbe5cf8b01ff0e069b9275f58929596ceb00d14d90e3e16cd6"
  },
  "kernelspec": {
   "display_name": "Python 3.8.9 64-bit",
   "language": "python",
   "name": "python3"
  },
  "language_info": {
   "codemirror_mode": {
    "name": "ipython",
    "version": 3
   },
   "file_extension": ".py",
   "mimetype": "text/x-python",
   "name": "python",
   "nbconvert_exporter": "python",
   "pygments_lexer": "ipython3",
   "version": "3.8.9"
  },
  "orig_nbformat": 4
 },
 "nbformat": 4,
 "nbformat_minor": 2
}
