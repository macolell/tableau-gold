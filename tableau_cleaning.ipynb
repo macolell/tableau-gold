{
 "cells": [
  {
   "cell_type": "code",
   "execution_count": 10,
   "metadata": {},
   "outputs": [],
   "source": [
    "import pandas as pd\n",
    "import numpy as np"
   ]
  },
  {
   "cell_type": "code",
   "execution_count": 11,
   "metadata": {},
   "outputs": [],
   "source": [
    "#read in data\n",
    "account_dim = pd.read_csv('/Users/michaelcolellajensen/Desktop/Tableau/account_dimensions.csv')\n",
    "case_notes = pd.read_csv('/Users/michaelcolellajensen/Desktop/Tableau/support_cases_text_fact.csv')\n",
    "support_fact = pd.read_csv('/Users/michaelcolellajensen/Desktop/Tableau/support_cases_fact.csv')\n",
    "oppertunity_fact = pd.read_csv('/Users/michaelcolellajensen/Desktop/Tableau/opportunity_fact.csv')\n",
    "date_dim = pd.read_csv('/Users/michaelcolellajensen/Desktop/Tableau/date_dimensions.csv')\n",
    "opportunity_summary = pd.read_csv('/Users/michaelcolellajensen/Desktop/Tableau/TFL_PivotedData.csv')\n",
    "tenure = pd.read_csv('/Users/michaelcolellajensen/Desktop/Tableau/account_tenure_by_month.csv',  encoding = 'unicode_escape', engine ='python')"
   ]
  },
  {
   "cell_type": "code",
   "execution_count": 12,
   "metadata": {},
   "outputs": [
    {
     "name": "stdout",
     "output_type": "stream",
     "text": [
      "1\n",
      "(205061, 27)\n"
     ]
    }
   ],
   "source": [
    "#join supoprt tickets with account_dim\n",
    "support_account = support_fact.merge(account_dim,\n",
    "                                     on='ACCOUNTKEY',\n",
    "                                     how='left')\n",
    "support_account = support_account.drop_duplicates(subset='CASE_NUMBER')\n",
    "\n",
    "print(support_account['CASE_NUMBER'].value_counts().max())\n",
    "print(support_account.shape)"
   ]
  },
  {
   "cell_type": "code",
   "execution_count": 13,
   "metadata": {},
   "outputs": [
    {
     "name": "stdout",
     "output_type": "stream",
     "text": [
      "(183669, 22)\n",
      "Index(['STATUS', 'PRIORITY', 'IMPACT', 'ORIGIN', 'PRODUCT', 'CATEGORY',\n",
      "       'SUBCATEGORY', 'CREATED_DATE', 'CLOSED_DATE', 'CASE_CLOSED_REASON',\n",
      "       'RECORDTYPE', 'CASE_NUMBER', 'ACCOUNTKEY', 'ACCOUNTTYPE',\n",
      "       'ACCOUNTTYPEDETAIL', 'EMPLOYEECOUNT', 'THEATER', 'SUBREGION', 'SEGMENT',\n",
      "       'SUBSEGMENT', 'Tenure', 'Zero.Revenue.Flag'],\n",
      "      dtype='object')\n",
      "STATUS                0\n",
      "PRIORITY              0\n",
      "IMPACT                0\n",
      "ORIGIN                0\n",
      "PRODUCT               0\n",
      "CATEGORY              0\n",
      "SUBCATEGORY           0\n",
      "CREATED_DATE          0\n",
      "CLOSED_DATE           0\n",
      "CASE_CLOSED_REASON    0\n",
      "RECORDTYPE            0\n",
      "CASE_NUMBER           0\n",
      "ACCOUNTKEY            0\n",
      "ACCOUNTTYPE           0\n",
      "ACCOUNTTYPEDETAIL     0\n",
      "EMPLOYEECOUNT         0\n",
      "THEATER               0\n",
      "SUBREGION             0\n",
      "SEGMENT               0\n",
      "SUBSEGMENT            0\n",
      "Tenure                0\n",
      "Zero.Revenue.Flag     0\n",
      "dtype: int64\n"
     ]
    }
   ],
   "source": [
    "#join support_account table with tenure_dim\n",
    "support_accounts = support_account.merge(tenure,\n",
    "                                         on='ACCOUNTKEY',\n",
    "                                         how='left')\n",
    "#dropping duplicated from left join\n",
    "support_accounts = support_accounts.drop_duplicates(subset='CASE_NUMBER')\n",
    "#dropping useless cols\n",
    "support_accounts = support_accounts.drop(['Unnamed: 0_x', 'PREFERRED_CASE_LANGUAGE',\n",
    "                                          'Unnamed: 0_y', 'REGION_y', 'REGION_x',\n",
    "                                          'PARENTACCOUNTKEY', 'TOPPARENTACCOUNTKEY',\n",
    "                                          'ï..Tenure.Date.Value', 'Unnamed: 0'], axis =1)\n",
    "#filter support_accounts\n",
    "support_accounts = support_accounts[(support_accounts['ACCOUNTKEY'].isna() != True) &\n",
    "                                    (support_accounts['Zero.Revenue.Flag'].isna() != True)]\n",
    "#define a dict to fill NAs\n",
    "fill_dict = {'PRIORITY':'None',\n",
    "             'IMPACT': 'None',\n",
    "             'ORIGIN': 'Other',\n",
    "             'PRODUCT': 'Other',\n",
    "             'CATEGORY': 'Other',\n",
    "             'SUBCATEGORY': 'None',\n",
    "             'CASE_CLOSED_REASON': 'None',\n",
    "             'EMPLOYEECOUNT': 0}\n",
    "support_accounts.fillna(value = fill_dict, inplace=True)\n",
    "#sanity check\n",
    "print(support_accounts.shape)\n",
    "print(support_accounts.columns)\n",
    "print(support_accounts.isna().sum())"
   ]
  },
  {
   "cell_type": "code",
   "execution_count": 14,
   "metadata": {},
   "outputs": [
    {
     "name": "stdout",
     "output_type": "stream",
     "text": [
      "Index(['Unnamed: 0', 'CREATEDDATE', 'CLOSEDATE', 'ISUPGRADE', 'ISCLOSED',\n",
      "       'ISWON', 'NUMBEROFDESKTOPLICENSES', 'NUMBEROFINTERACTORS',\n",
      "       'NUMBEROFCORES', 'QUANTITY', 'TERMLENGTH',\n",
      "       'COMPARATIVESALESCREDITAMOUNT', 'ACV', 'PRODUCTTYPE', 'PRODUCTGROUP',\n",
      "       'PRODUCTSUBCATEGORY', 'IS_INCLUDED_IN_ATTAINMENT', 'ACCOUNTKEY',\n",
      "       'OPPORTUNITYID', 'OPPORTUNITYLINEITEMID'],\n",
      "      dtype='object')\n",
      "(1268070, 20)\n",
      "Unnamed: 0                      0\n",
      "CREATEDDATE                     0\n",
      "CLOSEDATE                       0\n",
      "ISUPGRADE                       0\n",
      "ISCLOSED                        0\n",
      "ISWON                           0\n",
      "NUMBEROFDESKTOPLICENSES         0\n",
      "NUMBEROFINTERACTORS             0\n",
      "NUMBEROFCORES                   0\n",
      "QUANTITY                        0\n",
      "TERMLENGTH                      0\n",
      "COMPARATIVESALESCREDITAMOUNT    0\n",
      "ACV                             0\n",
      "PRODUCTTYPE                     0\n",
      "PRODUCTGROUP                    0\n",
      "PRODUCTSUBCATEGORY              0\n",
      "IS_INCLUDED_IN_ATTAINMENT       0\n",
      "ACCOUNTKEY                      0\n",
      "OPPORTUNITYID                   0\n",
      "OPPORTUNITYLINEITEMID           0\n",
      "dtype: int64\n"
     ]
    }
   ],
   "source": [
    "#filter opertunities \n",
    "closed_sales = oppertunity_fact[(oppertunity_fact['PRODUCTTYPE'] != 'Maintenance Renewal') &\n",
    "                                (oppertunity_fact['PRODUCTTYPE'] != 'Licence Renewal') &\n",
    "                                (oppertunity_fact['ISCLOSED'] == True) &\n",
    "                                (oppertunity_fact['COMPARATIVESALESCREDITAMOUNT'] >0) &\n",
    "                                (oppertunity_fact['TERMLENGTH'] >0) &\n",
    "                                (oppertunity_fact['PRODUCTGROUP'].isna() != True) &\n",
    "                                (oppertunity_fact['ACCOUNTKEY'].isna() != True)]\n",
    "#dropping useless cols\n",
    "closed_sales = closed_sales.drop(['ORIGINAL_SALES_DATE', 'ISDELETED', 'ISPARTNERRELATED',\n",
    "                                  'CAPACITYCOUNT', 'MAINTENANCESTARTDATE', \n",
    "                                  'MAINTENANCEENDDATE', 'PRODUCTTYPEOVERALL',\n",
    "                                  'PRODUCTCATEGORY', 'STAGENAME', 'CONSOLIDATEDREASON',\n",
    "                                  'PARTNERACCOUNTKEY', 'CONVERSIONOPPORTUNITYID'], axis =1)\n",
    "print(closed_sales.columns)\n",
    "print(closed_sales.shape)\n",
    "print(closed_sales.isna().sum())"
   ]
  },
  {
   "cell_type": "code",
   "execution_count": 15,
   "metadata": {},
   "outputs": [],
   "source": [
    "#closed_sales.to_csv('/Users/michaelcolellajensen/Desktop/Tableau/cleaned_oppertunity_fact.csv')\n",
    "#support_accounts.to_csv('/Users/michaelcolellajensen/Desktop/Tableau/cleaned_suportcases_accounts.csv')"
   ]
  },
  {
   "cell_type": "code",
   "execution_count": 16,
   "metadata": {},
   "outputs": [
    {
     "name": "stdout",
     "output_type": "stream",
     "text": [
      "(134091, 20)\n"
     ]
    }
   ],
   "source": [
    "closed_sales['CLOSEDATE'] = pd.to_datetime(closed_sales['CLOSEDATE'])\n",
    "recent_sales = (\n",
    "    closed_sales.sort_values('CLOSEDATE', ascending=False).reset_index(drop=True).groupby('ACCOUNTKEY')\n",
    ")\n",
    "new_sales = closed_sales.loc[closed_sales.groupby('ACCOUNTKEY')['CLOSEDATE'].idxmax()]\n",
    "print(new_sales.shape)"
   ]
  },
  {
   "cell_type": "code",
   "execution_count": 17,
   "metadata": {},
   "outputs": [],
   "source": [
    "#new_sales.to_csv('/Users/michaelcolellajensen/Desktop/Tableau/most_receent_oppertunity.csv')"
   ]
  },
  {
   "cell_type": "code",
   "execution_count": 24,
   "metadata": {},
   "outputs": [
    {
     "name": "stdout",
     "output_type": "stream",
     "text": [
      "(290216, 13)\n",
      "105728\n",
      "Index(['Einstein Analytics', 'Role Based - Online', 'Server', 'Saas',\n",
      "       'Role Based - On Prem', 'Services', 'Desktop', 'Role Based - NonProd',\n",
      "       'Other', 'ACCOUNTKEY', 'CLOSEDATE', 'ISWON', 'ISPARTNERRELATED'],\n",
      "      dtype='object')\n"
     ]
    }
   ],
   "source": [
    "print(opportunity_summary.shape)\n",
    "print(opportunity_summary['ACCOUNTKEY'].nunique())\n",
    "print(opportunity_summary.columns)"
   ]
  },
  {
   "cell_type": "code",
   "execution_count": 32,
   "metadata": {},
   "outputs": [
    {
     "name": "stdout",
     "output_type": "stream",
     "text": [
      "(183669, 34)\n"
     ]
    }
   ],
   "source": [
    "support_accounts['CLOSED_DATE'] = pd.to_datetime(support_accounts['CLOSED_DATE'])\n",
    "opportunity_summary['CLOSEDATE'] = pd.to_datetime(opportunity_summary['CLOSEDATE'])\n",
    "support_accounts = support_accounts.sort_values('CLOSED_DATE')\n",
    "opportunity_summary = opportunity_summary.sort_values('CLOSEDATE')\n",
    "support_oppertunity = pd.merge_asof(left = support_accounts, \n",
    "                                    right = opportunity_summary, \n",
    "                                    left_on ='CLOSED_DATE',\n",
    "                                    right_on = 'CLOSEDATE',\n",
    "                                    by = 'ACCOUNTKEY',\n",
    "                                    direction='forward',\n",
    "                                    tolerance= pd.Timedelta('60d')\n",
    "                                    )\n",
    "print(support_oppertunity.shape)"
   ]
  },
  {
   "cell_type": "code",
   "execution_count": 38,
   "metadata": {},
   "outputs": [
    {
     "name": "stdout",
     "output_type": "stream",
     "text": [
      "28348\n",
      "183669\n",
      "STATUS                  0\n",
      "PRIORITY                0\n",
      "IMPACT                  0\n",
      "ORIGIN                  0\n",
      "PRODUCT                 0\n",
      "CATEGORY                0\n",
      "SUBCATEGORY             0\n",
      "CREATED_DATE            0\n",
      "CLOSED_DATE             0\n",
      "CASE_CLOSED_REASON      0\n",
      "RECORDTYPE              0\n",
      "CASE_NUMBER             0\n",
      "ACCOUNTKEY              0\n",
      "ACCOUNTTYPE             0\n",
      "ACCOUNTTYPEDETAIL       0\n",
      "EMPLOYEECOUNT           0\n",
      "THEATER                 0\n",
      "SUBREGION               0\n",
      "SEGMENT                 0\n",
      "SUBSEGMENT              0\n",
      "Tenure                  0\n",
      "Zero.Revenue.Flag       0\n",
      "Einstein Analytics      0\n",
      "Role Based - Online     0\n",
      "Server                  0\n",
      "Saas                    0\n",
      "Role Based - On Prem    0\n",
      "Services                0\n",
      "Desktop                 0\n",
      "Role Based - NonProd    0\n",
      "Other                   0\n",
      "CLOSEDATE               0\n",
      "ISWON                   0\n",
      "ISPARTNERRELATED        0\n",
      "dtype: int64\n",
      "             STATUS PRIORITY             IMPACT  ORIGIN          PRODUCT  \\\n",
      "0  Pending Customer       P3  Minority of Users  Portal   Tableau Server   \n",
      "1          Resolved       P3  Minority of Users  Portal   Tableau Server   \n",
      "2          Resolved       P2               None   Other  Tableau Desktop   \n",
      "3            Closed       P3  Majority of Users  Portal   Tableau Server   \n",
      "4          Resolved       P4  Minority of Users     Web  Tableau Desktop   \n",
      "\n",
      "                                     CATEGORY SUBCATEGORY    CREATED_DATE  \\\n",
      "0                                   Stability        None  11/2/2018 2:26   \n",
      "1  Installations, Upgrades, Backups, Restores        None  2/27/2019 8:15   \n",
      "2                                       Other        None  3/27/2019 5:56   \n",
      "3                          Content Management        None  3/25/2019 4:45   \n",
      "4                      Installation, Upgrades        None  3/25/2019 4:06   \n",
      "\n",
      "          CLOSED_DATE CASE_CLOSED_REASON  ...   Server Saas  \\\n",
      "0 2019-04-01 00:19:00        No Response  ...      0.0  0.0   \n",
      "1 2019-04-01 00:26:00           Resolved  ...  79998.4  0.0   \n",
      "2 2019-04-01 00:47:00        Information  ...      0.0  0.0   \n",
      "3 2019-04-01 01:00:00        Information  ...      0.0  0.0   \n",
      "4 2019-04-01 01:05:00           Resolved  ...      0.0  0.0   \n",
      "\n",
      "  Role Based - On Prem Services Desktop  Role Based - NonProd Other  \\\n",
      "0                  0.0      0.0     0.0                   0.0   0.0   \n",
      "1                  0.0  25000.0     0.0                   0.0   0.0   \n",
      "2                  0.0      0.0     0.0                   0.0   0.0   \n",
      "3                  0.0      0.0     0.0                   0.0   0.0   \n",
      "4                  0.0      0.0     0.0                   0.0   0.0   \n",
      "\n",
      "             CLOSEDATE ISWON ISPARTNERRELATED  \n",
      "0                    0   0.0              0.0  \n",
      "1  2019-05-10 00:00:00   1.0              0.0  \n",
      "2  2019-04-24 00:00:00   1.0              1.0  \n",
      "3                    0   0.0              0.0  \n",
      "4                    0   0.0              0.0  \n",
      "\n",
      "[5 rows x 34 columns]\n"
     ]
    }
   ],
   "source": [
    "support_oppertunity.fillna(0, inplace=True)\n",
    "print(support_oppertunity['ACCOUNTKEY'].nunique())\n",
    "print(support_oppertunity['CASE_NUMBER'].nunique())\n",
    "print(support_oppertunity.isna().sum())\n",
    "print(support_oppertunity.head())"
   ]
  },
  {
   "cell_type": "code",
   "execution_count": 39,
   "metadata": {},
   "outputs": [],
   "source": [
    "#support_oppertunity.to_csv('/Users/michaelcolellajensen/Desktop/Tableau/case_oppertunities.csv')"
   ]
  }
 ],
 "metadata": {
  "interpreter": {
   "hash": "31f2aee4e71d21fbe5cf8b01ff0e069b9275f58929596ceb00d14d90e3e16cd6"
  },
  "kernelspec": {
   "display_name": "Python 3.8.9 64-bit",
   "language": "python",
   "name": "python3"
  },
  "language_info": {
   "codemirror_mode": {
    "name": "ipython",
    "version": 3
   },
   "file_extension": ".py",
   "mimetype": "text/x-python",
   "name": "python",
   "nbconvert_exporter": "python",
   "pygments_lexer": "ipython3",
   "version": "3.8.9"
  },
  "orig_nbformat": 4
 },
 "nbformat": 4,
 "nbformat_minor": 2
}
