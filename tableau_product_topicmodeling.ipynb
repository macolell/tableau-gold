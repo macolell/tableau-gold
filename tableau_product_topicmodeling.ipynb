{
 "cells": [
  {
   "cell_type": "code",
   "execution_count": 1,
   "metadata": {},
   "outputs": [],
   "source": [
    "import pandas as pd\n",
    "import numpy as np\n",
    "import matplotlib.pyplot as plt\n",
    "import seaborn as sns"
   ]
  },
  {
   "cell_type": "code",
   "execution_count": 2,
   "metadata": {},
   "outputs": [
    {
     "name": "stdout",
     "output_type": "stream",
     "text": [
      "(183669, 35)\n",
      "Index(['Unnamed: 0', 'STATUS', 'PRIORITY', 'IMPACT', 'ORIGIN', 'PRODUCT',\n",
      "       'CATEGORY', 'SUBCATEGORY', 'CREATED_DATE', 'CLOSED_DATE',\n",
      "       'CASE_CLOSED_REASON', 'RECORDTYPE', 'CASE_NUMBER', 'ACCOUNTKEY',\n",
      "       'ACCOUNTTYPE', 'ACCOUNTTYPEDETAIL', 'EMPLOYEECOUNT', 'THEATER',\n",
      "       'SUBREGION', 'SEGMENT', 'SUBSEGMENT', 'Tenure', 'Zero.Revenue.Flag',\n",
      "       'Einstein Analytics', 'Role Based - Online', 'Server', 'Saas',\n",
      "       'Role Based - On Prem', 'Services', 'Desktop', 'Role Based - NonProd',\n",
      "       'Other', 'CLOSEDATE', 'ISWON', 'ISPARTNERRELATED'],\n",
      "      dtype='object')\n",
      "28348\n",
      "183669\n"
     ]
    }
   ],
   "source": [
    "case_oppertunity = pd.read_csv('/Users/h1zhen/Documents/UW/Capstone/0509/case_oppertunities.csv')\n",
    "print(case_oppertunity.shape)\n",
    "print(case_oppertunity.columns)\n",
    "print(case_oppertunity['ACCOUNTKEY'].nunique())\n",
    "print(case_oppertunity['CASE_NUMBER'].nunique())"
   ]
  },
  {
   "cell_type": "code",
   "execution_count": null,
   "metadata": {},
   "outputs": [],
   "source": []
  },
  {
   "cell_type": "code",
   "execution_count": null,
   "metadata": {},
   "outputs": [],
   "source": []
  },
  {
   "cell_type": "code",
   "execution_count": 3,
   "metadata": {},
   "outputs": [
    {
     "name": "stdout",
     "output_type": "stream",
     "text": [
      "(28348, 36)\n"
     ]
    }
   ],
   "source": [
    "recent_opp_act = case_oppertunity.sort_values('CLOSEDATE', ascending=False).drop_duplicates('ACCOUNTKEY')\n",
    "recent_opp_act['total_acv'] = recent_opp_act[['Einstein Analytics', 'Role Based - Online',\n",
    "                                              'Server', 'Saas', 'Role Based - On Prem',\n",
    "                                              'Services', 'Desktop', 'Role Based - NonProd']].sum()\n",
    "print(recent_opp_act.shape)"
   ]
  },
  {
   "cell_type": "code",
   "execution_count": 13,
   "metadata": {},
   "outputs": [
    {
     "name": "stdout",
     "output_type": "stream",
     "text": [
      "        Unnamed: 0                  STATUS PRIORITY             IMPACT  \\\n",
      "179123      179123  Confirmation Requested       P2  Minority of Users   \n",
      "173514      173514                Resolved       P2  Majority of Users   \n",
      "180925      180925        Pending Customer       P4  Minority of Users   \n",
      "177096      177096        Pending Customer       P4  Minority of Users   \n",
      "178992      178992        Pending Customer       P3  Minority of Users   \n",
      "\n",
      "        ORIGIN          PRODUCT                    CATEGORY  \\\n",
      "179123   Other  Tableau Desktop                        APIs   \n",
      "173514     Pro   Tableau Server                   Licensing   \n",
      "180925  Portal  Tableau Desktop  Connect and work with data   \n",
      "177096  Portal   Tableau Server              Visualizations   \n",
      "178992  Portal   Tableau Server                        APIs   \n",
      "\n",
      "                       SUBCATEGORY     CREATED_DATE          CLOSED_DATE  ...  \\\n",
      "179123  Python Integration (TabPy)   3/9/2022 19:22  2022-03-27 18:39:00  ...   \n",
      "173514         Maximum activations    3/3/2022 1:31  2022-03-04 02:13:00  ...   \n",
      "180925             Connect to data    3/8/2022 9:32  2022-04-01 14:51:00  ...   \n",
      "177096           Appearance issues  2/23/2022 18:33  2022-03-18 07:22:00  ...   \n",
      "178992                      TABCMD   2/2/2022 18:59  2022-03-25 13:55:00  ...   \n",
      "\n",
      "       Saas Role Based - On Prem Services Desktop Role Based - NonProd Other  \\\n",
      "179123    0                    0        0       0                    0     0   \n",
      "173514    0                    0        0       0                    0     0   \n",
      "180925    0                    0        0       0                    0     0   \n",
      "177096    0                    0        1       0                    0     0   \n",
      "178992    0                    0        0       0                    0     0   \n",
      "\n",
      "                  CLOSEDATE ISWON ISPARTNERRELATED total_acv  \n",
      "179123  2022-05-25 00:00:00   0.0              0.0       NaN  \n",
      "173514  2022-05-01 00:00:00   1.0              0.0       NaN  \n",
      "180925  2022-04-30 00:00:00   1.0              0.0       NaN  \n",
      "177096  2022-04-29 00:00:00   0.0              0.0       NaN  \n",
      "178992  2022-04-29 00:00:00   0.0              0.0       NaN  \n",
      "\n",
      "[5 rows x 36 columns]\n"
     ]
    }
   ],
   "source": [
    "recent_opp_binary = recent_opp_act\n",
    "recent_opp_act['Einstein Analytics'] = np.where(recent_opp_act['Einstein Analytics'] > 0, 1, 0)\n",
    "recent_opp_act['Server'] = np.where(recent_opp_act['Server'] > 0, 1, 0)\n",
    "recent_opp_act['Saas'] = np.where(recent_opp_act['Saas'] > 0, 1, 0)\n",
    "recent_opp_act['Role Based - On Prem'] = np.where(recent_opp_act['Role Based - On Prem'] > 0, 1, 0)\n",
    "recent_opp_act['Role Based - Online'] = np.where(recent_opp_act['Role Based - Online'] > 0, 1, 0)\n",
    "recent_opp_act['Services'] = np.where(recent_opp_act['Services'] > 0, 1, 0)\n",
    "recent_opp_act['Desktop'] = np.where(recent_opp_act['Desktop'] > 0, 1, 0)\n",
    "recent_opp_act['Role Based - NonProd'] = np.where(recent_opp_act['Role Based - NonProd'] > 0, 1, 0)\n",
    "recent_opp_act['Other'] = np.where(recent_opp_act['Other'] > 0, 1, 0)\n",
    "print(recent_opp_act.head())"
   ]
  },
  {
   "cell_type": "code",
   "execution_count": 4,
   "metadata": {},
   "outputs": [
    {
     "name": "stdout",
     "output_type": "stream",
     "text": [
      "     Topic 1  Topic 2    Topic 3   Topic 4  Topic 5\n",
      "0        pii     name  dashboard     error  tableau\n",
      "1       user      pii        use   connect   server\n",
      "2      error    email        can      data      run\n",
      "3    version    pleas       show       tri   servic\n",
      "4       site   licens       view      issu   upgrad\n",
      "5        set    https        one   desktop      tsm\n",
      "6        use    thank       like     sourc     node\n",
      "7        log  tableau       user      work      log\n",
      "8     instal      key       step       get     file\n",
      "9       fail    activ      chang   extract    start\n",
      "10  configur      can     filter  workbook   status\n",
      "11    follow      url       want   refresh   instal\n",
      "12       get     team        see   publish     prep\n",
      "13   request  support      creat     unabl  process\n",
      "14      file  product       will       abl   window\n",
      "15      info     help       need    access     fail\n",
      "16     https     need       tabl    attach     stop\n",
      "17     login   regard     report     onlin    error\n",
      "18   authent   attach       date       use  restart\n",
      "19     found   inform     differ      open     data\n"
     ]
    }
   ],
   "source": [
    "# read topic data generated with topic modeling\n",
    "topics = pd.read_csv('/Users/h1zhen/Documents/UW/Capstone/0509/Topic_cohort.csv')\n",
    "print(topics)"
   ]
  },
  {
   "cell_type": "code",
   "execution_count": null,
   "metadata": {},
   "outputs": [],
   "source": []
  },
  {
   "cell_type": "code",
   "execution_count": 5,
   "metadata": {},
   "outputs": [
    {
     "name": "stdout",
     "output_type": "stream",
     "text": [
      "(203367, 2)\n"
     ]
    }
   ],
   "source": [
    "# read case data\n",
    "case_text = pd.read_csv('/Users/h1zhen/Downloads/support_cases_text_fact.csv')\n",
    "case_text = case_text[[\"CASE_NUMBER\", \"DESCRIPTION\"]]\n",
    "\n",
    "# drop empty text boxes\n",
    "case_text.dropna(subset = [\"DESCRIPTION\"], inplace=True)\n",
    "\n",
    "print(case_text.shape)"
   ]
  },
  {
   "cell_type": "code",
   "execution_count": 6,
   "metadata": {},
   "outputs": [],
   "source": [
    "# subest the DESCRIPTION column for text analysis\n",
    "test = case_text[\"DESCRIPTION\"].iloc[:,]"
   ]
  },
  {
   "cell_type": "code",
   "execution_count": 7,
   "metadata": {},
   "outputs": [],
   "source": [
    "def assign_cohort(x):\n",
    "    \"\"\"\n",
    "    For each case, calculate the word occurence of each topic. \n",
    "    \n",
    "    :param x: list, text data\n",
    "    :return: list, flags for each case\n",
    "    \"\"\"\n",
    "    topic_flag = []\n",
    "    for i in range(len(x)):\n",
    "        line = x.iloc[i,]\n",
    "        topic_dict = {}\n",
    "        \n",
    "        # loop over five topics\n",
    "        for j in range(0,5):\n",
    "            topic_count = 0\n",
    "            \n",
    "            # loop over 20 words in a topic\n",
    "            for word in topics.iloc[:, j]:\n",
    "                if word in line:\n",
    "                        topic_count += 1\n",
    "                    \n",
    "            # select the topic with most words appeared in the line\n",
    "            topic_index = str(j+1)\n",
    "            topic_dict[topic_index] = topic_count\n",
    "        # print(topic_dict)\n",
    "        chosen_topic = int(max(topic_dict, key=topic_dict.get))\n",
    "        topic_flag.append(chosen_topic)\n",
    "            \n",
    "    return(topic_flag)\n",
    "            "
   ]
  },
  {
   "cell_type": "code",
   "execution_count": 8,
   "metadata": {},
   "outputs": [],
   "source": [
    "# assign flags to each case\n",
    "flags4context = assign_cohort(test)"
   ]
  },
  {
   "cell_type": "code",
   "execution_count": 9,
   "metadata": {},
   "outputs": [
    {
     "data": {
      "text/html": [
       "<div>\n",
       "<style scoped>\n",
       "    .dataframe tbody tr th:only-of-type {\n",
       "        vertical-align: middle;\n",
       "    }\n",
       "\n",
       "    .dataframe tbody tr th {\n",
       "        vertical-align: top;\n",
       "    }\n",
       "\n",
       "    .dataframe thead th {\n",
       "        text-align: right;\n",
       "    }\n",
       "</style>\n",
       "<table border=\"1\" class=\"dataframe\">\n",
       "  <thead>\n",
       "    <tr style=\"text-align: right;\">\n",
       "      <th></th>\n",
       "      <th>CASE_NUMBER</th>\n",
       "      <th>flag</th>\n",
       "    </tr>\n",
       "  </thead>\n",
       "  <tbody>\n",
       "    <tr>\n",
       "      <th>205051</th>\n",
       "      <td>6950055a4f149a8d3194f33310063fe3</td>\n",
       "      <td>4</td>\n",
       "    </tr>\n",
       "    <tr>\n",
       "      <th>205052</th>\n",
       "      <td>640ca5a4dde71d987b8cdd8eca327207</td>\n",
       "      <td>4</td>\n",
       "    </tr>\n",
       "    <tr>\n",
       "      <th>205053</th>\n",
       "      <td>c58f8bff762c204f438f9a715bb2c660</td>\n",
       "      <td>1</td>\n",
       "    </tr>\n",
       "    <tr>\n",
       "      <th>205054</th>\n",
       "      <td>55c0ae985b7611e3f20e8e1dec5f4d22</td>\n",
       "      <td>5</td>\n",
       "    </tr>\n",
       "    <tr>\n",
       "      <th>205055</th>\n",
       "      <td>3d4dc6de79e97a6a858dfecf3ed325c7</td>\n",
       "      <td>2</td>\n",
       "    </tr>\n",
       "    <tr>\n",
       "      <th>205056</th>\n",
       "      <td>2bbd11d460537f355489dcd72180cf75</td>\n",
       "      <td>1</td>\n",
       "    </tr>\n",
       "    <tr>\n",
       "      <th>205057</th>\n",
       "      <td>c3a407a808ef68fbe843a4ff1ecea4a4</td>\n",
       "      <td>3</td>\n",
       "    </tr>\n",
       "    <tr>\n",
       "      <th>205058</th>\n",
       "      <td>75c6f03cac6ccd0ee6c31e4030e195f4</td>\n",
       "      <td>4</td>\n",
       "    </tr>\n",
       "    <tr>\n",
       "      <th>205059</th>\n",
       "      <td>937693f3c3f72c639421056f0e2db2b4</td>\n",
       "      <td>4</td>\n",
       "    </tr>\n",
       "    <tr>\n",
       "      <th>205060</th>\n",
       "      <td>060ebf0bcb09016a71b66e50bf146d44</td>\n",
       "      <td>5</td>\n",
       "    </tr>\n",
       "  </tbody>\n",
       "</table>\n",
       "</div>"
      ],
      "text/plain": [
       "                             CASE_NUMBER  flag\n",
       "205051  6950055a4f149a8d3194f33310063fe3     4\n",
       "205052  640ca5a4dde71d987b8cdd8eca327207     4\n",
       "205053  c58f8bff762c204f438f9a715bb2c660     1\n",
       "205054  55c0ae985b7611e3f20e8e1dec5f4d22     5\n",
       "205055  3d4dc6de79e97a6a858dfecf3ed325c7     2\n",
       "205056  2bbd11d460537f355489dcd72180cf75     1\n",
       "205057  c3a407a808ef68fbe843a4ff1ecea4a4     3\n",
       "205058  75c6f03cac6ccd0ee6c31e4030e195f4     4\n",
       "205059  937693f3c3f72c639421056f0e2db2b4     4\n",
       "205060  060ebf0bcb09016a71b66e50bf146d44     5"
      ]
     },
     "execution_count": 9,
     "metadata": {},
     "output_type": "execute_result"
    }
   ],
   "source": [
    "# create cohort flags for each case_number\n",
    "case_text['flag'] = flags4context\n",
    "cleaned_case_text = case_text[[\"CASE_NUMBER\", \"flag\"]]\n",
    "cleaned_case_text.tail(10)"
   ]
  },
  {
   "cell_type": "code",
   "execution_count": 14,
   "metadata": {},
   "outputs": [
    {
     "data": {
      "text/html": [
       "<div>\n",
       "<style scoped>\n",
       "    .dataframe tbody tr th:only-of-type {\n",
       "        vertical-align: middle;\n",
       "    }\n",
       "\n",
       "    .dataframe tbody tr th {\n",
       "        vertical-align: top;\n",
       "    }\n",
       "\n",
       "    .dataframe thead th {\n",
       "        text-align: right;\n",
       "    }\n",
       "</style>\n",
       "<table border=\"1\" class=\"dataframe\">\n",
       "  <thead>\n",
       "    <tr style=\"text-align: right;\">\n",
       "      <th></th>\n",
       "      <th>Unnamed: 0</th>\n",
       "      <th>STATUS</th>\n",
       "      <th>PRIORITY</th>\n",
       "      <th>IMPACT</th>\n",
       "      <th>ORIGIN</th>\n",
       "      <th>PRODUCT</th>\n",
       "      <th>CATEGORY</th>\n",
       "      <th>SUBCATEGORY</th>\n",
       "      <th>CREATED_DATE</th>\n",
       "      <th>CLOSED_DATE</th>\n",
       "      <th>...</th>\n",
       "      <th>Role Based - On Prem</th>\n",
       "      <th>Services</th>\n",
       "      <th>Desktop</th>\n",
       "      <th>Role Based - NonProd</th>\n",
       "      <th>Other</th>\n",
       "      <th>CLOSEDATE</th>\n",
       "      <th>ISWON</th>\n",
       "      <th>ISPARTNERRELATED</th>\n",
       "      <th>total_acv</th>\n",
       "      <th>flag</th>\n",
       "    </tr>\n",
       "  </thead>\n",
       "  <tbody>\n",
       "    <tr>\n",
       "      <th>27904</th>\n",
       "      <td>76431</td>\n",
       "      <td>Closed</td>\n",
       "      <td>P3</td>\n",
       "      <td>Majority of Users</td>\n",
       "      <td>Web</td>\n",
       "      <td>Tableau Desktop</td>\n",
       "      <td>Data Connectivity</td>\n",
       "      <td>Connecting to Data</td>\n",
       "      <td>2/17/2020 0:10</td>\n",
       "      <td>2020-02-18 17:42:00</td>\n",
       "      <td>...</td>\n",
       "      <td>0</td>\n",
       "      <td>0</td>\n",
       "      <td>0</td>\n",
       "      <td>0</td>\n",
       "      <td>0</td>\n",
       "      <td>0</td>\n",
       "      <td>0.0</td>\n",
       "      <td>0.0</td>\n",
       "      <td>NaN</td>\n",
       "      <td>2</td>\n",
       "    </tr>\n",
       "    <tr>\n",
       "      <th>27905</th>\n",
       "      <td>76424</td>\n",
       "      <td>Resolved</td>\n",
       "      <td>P3</td>\n",
       "      <td>Minority of Users</td>\n",
       "      <td>Web</td>\n",
       "      <td>Tableau Prep</td>\n",
       "      <td>Connecting to Data</td>\n",
       "      <td>None</td>\n",
       "      <td>2/17/2020 0:05</td>\n",
       "      <td>2020-02-18 17:18:00</td>\n",
       "      <td>...</td>\n",
       "      <td>0</td>\n",
       "      <td>0</td>\n",
       "      <td>0</td>\n",
       "      <td>0</td>\n",
       "      <td>0</td>\n",
       "      <td>0</td>\n",
       "      <td>0.0</td>\n",
       "      <td>0.0</td>\n",
       "      <td>NaN</td>\n",
       "      <td>5</td>\n",
       "    </tr>\n",
       "  </tbody>\n",
       "</table>\n",
       "<p>2 rows × 37 columns</p>\n",
       "</div>"
      ],
      "text/plain": [
       "       Unnamed: 0    STATUS PRIORITY             IMPACT ORIGIN  \\\n",
       "27904       76431    Closed       P3  Majority of Users    Web   \n",
       "27905       76424  Resolved       P3  Minority of Users    Web   \n",
       "\n",
       "               PRODUCT            CATEGORY         SUBCATEGORY  \\\n",
       "27904  Tableau Desktop   Data Connectivity  Connecting to Data   \n",
       "27905     Tableau Prep  Connecting to Data                None   \n",
       "\n",
       "         CREATED_DATE          CLOSED_DATE  ... Role Based - On Prem Services  \\\n",
       "27904  2/17/2020 0:10  2020-02-18 17:42:00  ...                    0        0   \n",
       "27905  2/17/2020 0:05  2020-02-18 17:18:00  ...                    0        0   \n",
       "\n",
       "      Desktop Role Based - NonProd Other CLOSEDATE  ISWON ISPARTNERRELATED  \\\n",
       "27904       0                    0     0         0    0.0              0.0   \n",
       "27905       0                    0     0         0    0.0              0.0   \n",
       "\n",
       "      total_acv flag  \n",
       "27904       NaN    2  \n",
       "27905       NaN    5  \n",
       "\n",
       "[2 rows x 37 columns]"
      ]
     },
     "execution_count": 14,
     "metadata": {},
     "output_type": "execute_result"
    }
   ],
   "source": [
    "# Merge case's flag to opportunity data\n",
    "new_recent_opp_binary = recent_opp_binary.merge(cleaned_case_text, on='CASE_NUMBER', how='inner')\n",
    "new_recent_opp_binary.tail(2)"
   ]
  },
  {
   "cell_type": "code",
   "execution_count": 15,
   "metadata": {},
   "outputs": [
    {
     "name": "stdout",
     "output_type": "stream",
     "text": [
      "   Unnamed: 0                  STATUS PRIORITY             IMPACT  ORIGIN  \\\n",
      "0      179123  Confirmation Requested       P2  Minority of Users   Other   \n",
      "1      173514                Resolved       P2  Majority of Users     Pro   \n",
      "2      180925        Pending Customer       P4  Minority of Users  Portal   \n",
      "3      177096        Pending Customer       P4  Minority of Users  Portal   \n",
      "4      178992        Pending Customer       P3  Minority of Users  Portal   \n",
      "\n",
      "           PRODUCT                    CATEGORY                 SUBCATEGORY  \\\n",
      "0  Tableau Desktop                        APIs  Python Integration (TabPy)   \n",
      "1   Tableau Server                   Licensing         Maximum activations   \n",
      "2  Tableau Desktop  Connect and work with data             Connect to data   \n",
      "3   Tableau Server              Visualizations           Appearance issues   \n",
      "4   Tableau Server                        APIs                      TABCMD   \n",
      "\n",
      "      CREATED_DATE          CLOSED_DATE  ... Role Based - On Prem Services  \\\n",
      "0   3/9/2022 19:22  2022-03-27 18:39:00  ...                    0        0   \n",
      "1    3/3/2022 1:31  2022-03-04 02:13:00  ...                    0        0   \n",
      "2    3/8/2022 9:32  2022-04-01 14:51:00  ...                    0        0   \n",
      "3  2/23/2022 18:33  2022-03-18 07:22:00  ...                    0        1   \n",
      "4   2/2/2022 18:59  2022-03-25 13:55:00  ...                    0        0   \n",
      "\n",
      "  Desktop Role Based - NonProd Other            CLOSEDATE  ISWON  \\\n",
      "0       0                    0     0  2022-05-25 00:00:00    0.0   \n",
      "1       0                    0     0  2022-05-01 00:00:00    1.0   \n",
      "2       0                    0     0  2022-04-30 00:00:00    1.0   \n",
      "3       0                    0     0  2022-04-29 00:00:00    0.0   \n",
      "4       0                    0     0  2022-04-29 00:00:00    0.0   \n",
      "\n",
      "  ISPARTNERRELATED total_acv flag  \n",
      "0              0.0       NaN    1  \n",
      "1              0.0       NaN    2  \n",
      "2              0.0       NaN    4  \n",
      "3              0.0       NaN    4  \n",
      "4              0.0       NaN    1  \n",
      "\n",
      "[5 rows x 37 columns]\n"
     ]
    }
   ],
   "source": [
    "# create dummies for products\n",
    "new_recent_opp_binary = new_recent_opp_binary\n",
    "new_recent_opp_binary['Einstein Analytics'] = np.where(new_recent_opp_binary['Einstein Analytics'] > 0, 1, 0)\n",
    "new_recent_opp_binary['Server'] = np.where(new_recent_opp_binary['Server'] > 0, 1, 0)\n",
    "new_recent_opp_binary['Saas'] = np.where(new_recent_opp_binary['Saas'] > 0, 1, 0)\n",
    "new_recent_opp_binary['Role Based - On Prem'] = np.where(new_recent_opp_binary['Role Based - On Prem'] > 0, 1, 0)\n",
    "new_recent_opp_binary['Role Based - Online'] = np.where(new_recent_opp_binary['Role Based - Online'] > 0, 1, 0)\n",
    "new_recent_opp_binary['Services'] = np.where(new_recent_opp_binary['Services'] > 0, 1, 0)\n",
    "new_recent_opp_binary['Desktop'] = np.where(new_recent_opp_binary['Desktop'] > 0, 1, 0)\n",
    "new_recent_opp_binary['Role Based - NonProd'] = np.where(new_recent_opp_binary['Role Based - NonProd'] > 0, 1, 0)\n",
    "new_recent_opp_binary['Other'] = np.where(new_recent_opp_binary['Other'] > 0, 1, 0)\n",
    "print(new_recent_opp_binary.head())"
   ]
  },
  {
   "cell_type": "code",
   "execution_count": 16,
   "metadata": {},
   "outputs": [
    {
     "name": "stdout",
     "output_type": "stream",
     "text": [
      "[6047, 4531, 4609, 9695, 3024]\n"
     ]
    }
   ],
   "source": [
    "# calculate the cohort size\n",
    "cohort_size = [len(new_recent_opp_binary[new_recent_opp_binary['flag'] == 1]),\n",
    "               len(new_recent_opp_binary[new_recent_opp_binary['flag'] == 2]),\n",
    "               len(new_recent_opp_binary[new_recent_opp_binary['flag'] == 3]),\n",
    "               len(new_recent_opp_binary[new_recent_opp_binary['flag'] == 4]),\n",
    "               len(new_recent_opp_binary[new_recent_opp_binary['flag'] == 5])]\n",
    "print(cohort_size)"
   ]
  },
  {
   "cell_type": "code",
   "execution_count": 17,
   "metadata": {},
   "outputs": [
    {
     "name": "stdout",
     "output_type": "stream",
     "text": [
      "      Einstein Analytics  Role Based - Online  Server  Saas  \\\n",
      "flag                                                          \n",
      "1                    123                  637     123    10   \n",
      "2                     68                  383      70     6   \n",
      "3                    112                  574      88    13   \n",
      "4                    203                 1265     198    27   \n",
      "5                     77                  130      80     1   \n",
      "\n",
      "      Role Based - On Prem  Services  Desktop  Role Based - NonProd  Other  \n",
      "flag                                                                        \n",
      "1                     1257        44       90                     2      7  \n",
      "2                      838        26       78                     1      5  \n",
      "3                      879        43       88                     1      6  \n",
      "4                     1813        91      136                     2      5  \n",
      "5                      849        46       51                     1      1  \n"
     ]
    }
   ],
   "source": [
    "# summarize the number of each product used for cohorts\n",
    "summary = new_recent_opp_binary.groupby('flag').sum()[['Einstein Analytics', 'Role Based - Online',\n",
    "                                              'Server', 'Saas', 'Role Based - On Prem',\n",
    "                                              'Services', 'Desktop', 'Role Based - NonProd', 'Other']]\n",
    "\n",
    "print(summary)"
   ]
  },
  {
   "cell_type": "code",
   "execution_count": 23,
   "metadata": {},
   "outputs": [
    {
     "data": {
      "image/png": "[encoded data removed]",
      "text/plain": [
       "<Figure size 720x576 with 2 Axes>"
      ]
     },
     "metadata": {
      "needs_background": "light"
     },
     "output_type": "display_data"
    }
   ],
   "source": [
    "# display product usage \n",
    "product_use = summary.divide(cohort_size, axis=0)\n",
    "product_use.round(decimals=3)\n",
    "plt.figure(figsize=(10,8))\n",
    "plt.title('Product Usage')\n",
    "sns.heatmap(data=product_use, \n",
    "            annot= True,\n",
    "            fmt='.0%',\n",
    "            vmin=0.0,\n",
    "            vmax=0.18,\n",
    "            cmap='PuBu')\n",
    "plt.show()"
   ]
  },
  {
   "cell_type": "code",
   "execution_count": null,
   "metadata": {},
   "outputs": [],
   "source": []
  }
 ],
 "metadata": {
  "interpreter": {
   "hash": "31f2aee4e71d21fbe5cf8b01ff0e069b9275f58929596ceb00d14d90e3e16cd6"
  },
  "kernelspec": {
   "display_name": "Python 3",
   "language": "python",
   "name": "python3"
  },
  "language_info": {
   "codemirror_mode": {
    "name": "ipython",
    "version": 3
   },
   "file_extension": ".py",
   "mimetype": "text/x-python",
   "name": "python",
   "nbconvert_exporter": "python",
   "pygments_lexer": "ipython3",
   "version": "3.8.3"
  }
 },
 "nbformat": 4,
 "nbformat_minor": 2
}
