{
 "cells": [
  {
   "cell_type": "code",
   "execution_count": 2,
   "metadata": {},
   "outputs": [],
   "source": [
    "import pandas as pd\n",
    "import numpy as np\n",
    "import matplotlib.pyplot as plt\n",
    "import seaborn as sns"
   ]
  },
  {
   "cell_type": "code",
   "execution_count": 3,
   "metadata": {},
   "outputs": [],
   "source": [
    "case_oppertunity = pd.read_csv('/Users/michaelcolellajensen/Desktop/Tableau/case_oppertunities.csv')\n",
    "finance_grouped = pd.read_csv('/Users/michaelcolellajensen/Downloads/finance_fact.csv')\n",
    "finance_grouped['MONTH_END_DATE'] = pd.to_datetime(finance_grouped['MONTH_END_DATE'])\n",
    "finance_recent = finance_grouped.sort_values('MONTH_END_DATE', ascending=False).drop_duplicates('ACCOUNTKEY')"
   ]
  },
  {
   "cell_type": "code",
   "execution_count": 4,
   "metadata": {},
   "outputs": [
    {
     "name": "stdout",
     "output_type": "stream",
     "text": [
      "(28348, 36)\n"
     ]
    },
    {
     "ename": "ValueError",
     "evalue": "You are trying to merge on object and int64 columns. If you wish to proceed you should use pd.concat",
     "output_type": "error",
     "traceback": [
      "\u001b[0;31m---------------------------------------------------------------------------\u001b[0m",
      "\u001b[0;31mValueError\u001b[0m                                Traceback (most recent call last)",
      "\u001b[0;32m/var/folders/t_/rcfcs8g56jn7trwnsvmdyh_r0000gn/T/ipykernel_65653/1874279352.py\u001b[0m in \u001b[0;36m<module>\u001b[0;34m\u001b[0m\n\u001b[1;32m      4\u001b[0m                                               'Services', 'Desktop', 'Role Based - NonProd']].sum()\n\u001b[1;32m      5\u001b[0m \u001b[0mprint\u001b[0m\u001b[0;34m(\u001b[0m\u001b[0mrecent_opp_act\u001b[0m\u001b[0;34m.\u001b[0m\u001b[0mshape\u001b[0m\u001b[0;34m)\u001b[0m\u001b[0;34m\u001b[0m\u001b[0;34m\u001b[0m\u001b[0m\n\u001b[0;32m----> 6\u001b[0;31m recent_opp_act = recent_opp_act.merge(finance_recent,\n\u001b[0m\u001b[1;32m      7\u001b[0m                                       \u001b[0mhow\u001b[0m\u001b[0;34m=\u001b[0m\u001b[0;34m'left'\u001b[0m\u001b[0;34m,\u001b[0m\u001b[0;34m\u001b[0m\u001b[0;34m\u001b[0m\u001b[0m\n\u001b[1;32m      8\u001b[0m                                       on='ACCOUNTKEY')\n",
      "\u001b[0;32m~/Library/Python/3.8/lib/python/site-packages/pandas/core/frame.py\u001b[0m in \u001b[0;36mmerge\u001b[0;34m(self, right, how, on, left_on, right_on, left_index, right_index, sort, suffixes, copy, indicator, validate)\u001b[0m\n\u001b[1;32m   9188\u001b[0m         \u001b[0;32mfrom\u001b[0m \u001b[0mpandas\u001b[0m\u001b[0;34m.\u001b[0m\u001b[0mcore\u001b[0m\u001b[0;34m.\u001b[0m\u001b[0mreshape\u001b[0m\u001b[0;34m.\u001b[0m\u001b[0mmerge\u001b[0m \u001b[0;32mimport\u001b[0m \u001b[0mmerge\u001b[0m\u001b[0;34m\u001b[0m\u001b[0;34m\u001b[0m\u001b[0m\n\u001b[1;32m   9189\u001b[0m \u001b[0;34m\u001b[0m\u001b[0m\n\u001b[0;32m-> 9190\u001b[0;31m         return merge(\n\u001b[0m\u001b[1;32m   9191\u001b[0m             \u001b[0mself\u001b[0m\u001b[0;34m,\u001b[0m\u001b[0;34m\u001b[0m\u001b[0;34m\u001b[0m\u001b[0m\n\u001b[1;32m   9192\u001b[0m             \u001b[0mright\u001b[0m\u001b[0;34m,\u001b[0m\u001b[0;34m\u001b[0m\u001b[0;34m\u001b[0m\u001b[0m\n",
      "\u001b[0;32m~/Library/Python/3.8/lib/python/site-packages/pandas/core/reshape/merge.py\u001b[0m in \u001b[0;36mmerge\u001b[0;34m(left, right, how, on, left_on, right_on, left_index, right_index, sort, suffixes, copy, indicator, validate)\u001b[0m\n\u001b[1;32m    104\u001b[0m     \u001b[0mvalidate\u001b[0m\u001b[0;34m:\u001b[0m \u001b[0mstr\u001b[0m \u001b[0;34m|\u001b[0m \u001b[0;32mNone\u001b[0m \u001b[0;34m=\u001b[0m \u001b[0;32mNone\u001b[0m\u001b[0;34m,\u001b[0m\u001b[0;34m\u001b[0m\u001b[0;34m\u001b[0m\u001b[0m\n\u001b[1;32m    105\u001b[0m ) -> DataFrame:\n\u001b[0;32m--> 106\u001b[0;31m     op = _MergeOperation(\n\u001b[0m\u001b[1;32m    107\u001b[0m         \u001b[0mleft\u001b[0m\u001b[0;34m,\u001b[0m\u001b[0;34m\u001b[0m\u001b[0;34m\u001b[0m\u001b[0m\n\u001b[1;32m    108\u001b[0m         \u001b[0mright\u001b[0m\u001b[0;34m,\u001b[0m\u001b[0;34m\u001b[0m\u001b[0;34m\u001b[0m\u001b[0m\n",
      "\u001b[0;32m~/Library/Python/3.8/lib/python/site-packages/pandas/core/reshape/merge.py\u001b[0m in \u001b[0;36m__init__\u001b[0;34m(self, left, right, how, on, left_on, right_on, axis, left_index, right_index, sort, suffixes, copy, indicator, validate)\u001b[0m\n\u001b[1;32m    701\u001b[0m         \u001b[0;31m# validate the merge keys dtypes. We may need to coerce\u001b[0m\u001b[0;34m\u001b[0m\u001b[0;34m\u001b[0m\u001b[0;34m\u001b[0m\u001b[0m\n\u001b[1;32m    702\u001b[0m         \u001b[0;31m# to avoid incompatible dtypes\u001b[0m\u001b[0;34m\u001b[0m\u001b[0;34m\u001b[0m\u001b[0;34m\u001b[0m\u001b[0m\n\u001b[0;32m--> 703\u001b[0;31m         \u001b[0mself\u001b[0m\u001b[0;34m.\u001b[0m\u001b[0m_maybe_coerce_merge_keys\u001b[0m\u001b[0;34m(\u001b[0m\u001b[0;34m)\u001b[0m\u001b[0;34m\u001b[0m\u001b[0;34m\u001b[0m\u001b[0m\n\u001b[0m\u001b[1;32m    704\u001b[0m \u001b[0;34m\u001b[0m\u001b[0m\n\u001b[1;32m    705\u001b[0m         \u001b[0;31m# If argument passed to validate,\u001b[0m\u001b[0;34m\u001b[0m\u001b[0;34m\u001b[0m\u001b[0;34m\u001b[0m\u001b[0m\n",
      "\u001b[0;32m~/Library/Python/3.8/lib/python/site-packages/pandas/core/reshape/merge.py\u001b[0m in \u001b[0;36m_maybe_coerce_merge_keys\u001b[0;34m(self)\u001b[0m\n\u001b[1;32m   1254\u001b[0m                     \u001b[0minferred_right\u001b[0m \u001b[0;32min\u001b[0m \u001b[0mstring_types\u001b[0m \u001b[0;32mand\u001b[0m \u001b[0minferred_left\u001b[0m \u001b[0;32mnot\u001b[0m \u001b[0;32min\u001b[0m \u001b[0mstring_types\u001b[0m\u001b[0;34m\u001b[0m\u001b[0;34m\u001b[0m\u001b[0m\n\u001b[1;32m   1255\u001b[0m                 ):\n\u001b[0;32m-> 1256\u001b[0;31m                     \u001b[0;32mraise\u001b[0m \u001b[0mValueError\u001b[0m\u001b[0;34m(\u001b[0m\u001b[0mmsg\u001b[0m\u001b[0;34m)\u001b[0m\u001b[0;34m\u001b[0m\u001b[0;34m\u001b[0m\u001b[0m\n\u001b[0m\u001b[1;32m   1257\u001b[0m \u001b[0;34m\u001b[0m\u001b[0m\n\u001b[1;32m   1258\u001b[0m             \u001b[0;31m# datetimelikes must match exactly\u001b[0m\u001b[0;34m\u001b[0m\u001b[0;34m\u001b[0m\u001b[0;34m\u001b[0m\u001b[0m\n",
      "\u001b[0;31mValueError\u001b[0m: You are trying to merge on object and int64 columns. If you wish to proceed you should use pd.concat"
     ]
    }
   ],
   "source": [
    "recent_opp_act = case_oppertunity.sort_values('CLOSEDATE', ascending=False).drop_duplicates('ACCOUNTKEY')\n",
    "recent_opp_act['total_acv'] = recent_opp_act[['Einstein Analytics', 'Role Based - Online',\n",
    "                                              'Server', 'Saas', 'Role Based - On Prem',\n",
    "                                              'Services', 'Desktop', 'Role Based - NonProd']].sum()\n",
    "print(recent_opp_act.shape)\n",
    "recent_opp_act = recent_opp_act.merge(finance_recent,\n",
    "                                      how='left',\n",
    "                                      on='ACCOUNTKEY')\n",
    "print(recent_opp_act.shape)"
   ]
  },
  {
   "cell_type": "code",
   "execution_count": null,
   "metadata": {},
   "outputs": [],
   "source": [
    "recent_opp_binary = recent_opp_act\n",
    "recent_opp_act['Einstein Analytics'] = np.where(recent_opp_act['Einstein Analytics'] > 0, 1, 0)\n",
    "recent_opp_act['Server'] = np.where(recent_opp_act['Server'] > 0, 1, 0)\n",
    "recent_opp_act['Saas'] = np.where(recent_opp_act['Saas'] > 0, 1, 0)\n",
    "recent_opp_act['Role Based - On Prem'] = np.where(recent_opp_act['Role Based - On Prem'] > 0, 1, 0)\n",
    "recent_opp_act['Role Based - Online'] = np.where(recent_opp_act['Role Based - Online'] > 0, 1, 0)\n",
    "recent_opp_act['Services'] = np.where(recent_opp_act['Services'] > 0, 1, 0)\n",
    "recent_opp_act['Desktop'] = np.where(recent_opp_act['Desktop'] > 0, 1, 0)\n",
    "recent_opp_act['Role Based - NonProd'] = np.where(recent_opp_act['Role Based - NonProd'] > 0, 1, 0)\n",
    "recent_opp_act['Other'] = np.where(recent_opp_act['Other'] > 0, 1, 0)\n",
    "print(recent_opp_act.head())"
   ]
  },
  {
   "cell_type": "code",
   "execution_count": null,
   "metadata": {},
   "outputs": [],
   "source": [
    "def assign_cohort(x):\n",
    "    if x['Tenure'] <= 1:\n",
    "        return 4\n",
    "    elif x['Tenure'] <= 5:\n",
    "        return 3\n",
    "    elif x['Tenure'] <= 9:\n",
    "        return 3\n",
    "    elif x['Tenure'] <= 15:\n",
    "        return 2\n",
    "    elif x['Tenure'] <= 25:\n",
    "        return 1\n",
    "    else:\n",
    "        return 0\n",
    "    \n",
    "recent_opp_binary['cohort'] = recent_opp_binary.apply(assign_cohort,\n",
    "                                                axis=1)\n",
    "print(recent_opp_binary.shape)\n",
    "cohort_size = [len(recent_opp_act[recent_opp_act['cohort'] == 0]),\n",
    "               len(recent_opp_act[recent_opp_act['cohort'] == 1]),\n",
    "               len(recent_opp_act[recent_opp_act['cohort'] == 2]),\n",
    "               len(recent_opp_act[recent_opp_act['cohort'] == 3]),\n",
    "               len(recent_opp_act[recent_opp_act['cohort'] == 4])]"
   ]
  },
  {
   "cell_type": "code",
   "execution_count": null,
   "metadata": {},
   "outputs": [],
   "source": [
    "summary = recent_opp_act.groupby('cohort').sum(['Einstein Analytics', 'Role Based - Online',\n",
    "                                              'Server', 'Saas', 'Role Based - On Prem',\n",
    "                                              'Services', 'Desktop', 'Role Based - NonProd'])\n",
    "#summary.drop(['Unnamed: 0', 'STATUS', 'PRIORITY', 'IMPACT', 'ORIGIN', 'PRODUCT', 'CATEGORY',\n",
    "              #'SUBCATEGORY', 'CREATED_DATE', 'CLOSED_DATE', 'CLOSEDATE', 'ISWON', 'CASE_NUMBER',\n",
    "              #'ISPARTNERRELATED', 'total_acv', 'CASE_CLOSED_REASON', 'RECORDTYPE',\n",
    "              #'ACCOUNTTYPE', 'ACCOUNTTYPEDETAIL', 'EMPLOYEECOUNT', 'THEATER', 'SEGMENT',\n",
    "              #'SUBREGION', 'SUBSEGMENT', 'Tenure', 'Zero.Revenue.Flag'], inplace = True, axis = 1)\n",
    "summary.drop(['Unnamed: 0', 'EMPLOYEECOUNT', 'Tenure', 'Zero.Revenue.Flag',\n",
    "              'ISWON', 'ISPARTNERRELATED', 'total_acv'], inplace = True, axis = 1)\n",
    "print(summary)"
   ]
  },
  {
   "cell_type": "code",
   "execution_count": null,
   "metadata": {},
   "outputs": [],
   "source": [
    "product_use = summary.divide(cohort_size, axis=0)\n",
    "#product_use.drop('id', axis=1, inplace=True)\n",
    "product_use.round(decimals=3)\n",
    "plt.figure(figsize=(10,8))\n",
    "plt.title('Product Useage')\n",
    "sns.heatmap(data=product_use, \n",
    "            annot= True,\n",
    "            fmt='.0%',\n",
    "            vmin=0.0,\n",
    "            vmax=0.18,\n",
    "            cmap='PuBu')\n",
    "plt.show()"
   ]
  },
  {
   "cell_type": "code",
   "execution_count": null,
   "metadata": {},
   "outputs": [],
   "source": [
    "cases_grouped = case_oppertunity.groupby('ACCOUNTKEY')['CASE_NUMBER'].agg(['count'])\n",
    "print(cases_grouped)\n",
    "print(cases_grouped['count'].mean())"
   ]
  },
  {
   "cell_type": "code",
   "execution_count": null,
   "metadata": {},
   "outputs": [],
   "source": [
    "account_case_count = recent_opp_binary.merge(cases_grouped,\n",
    "                                             on='ACCOUNTKEY',\n",
    "                                             how='inner')\n",
    "print(account_case_count.shape)"
   ]
  },
  {
   "cell_type": "code",
   "execution_count": null,
   "metadata": {},
   "outputs": [],
   "source": [
    "def assign_case_cohort(x):\n",
    "    if x['count'] <= 1:\n",
    "        return 5\n",
    "    elif x['count'] <= 4:\n",
    "        return 4\n",
    "    elif x['count'] <= 9:\n",
    "        return 3\n",
    "    elif x['count'] <= 30:\n",
    "        return 2\n",
    "    elif x['count'] <= 100:\n",
    "        return 1\n",
    "    else:\n",
    "        return 0\n",
    "    \n",
    "account_case_count['case_cohort'] = account_case_count.apply(assign_case_cohort,\n",
    "                                                             axis=1)\n",
    "account_case_count = account_case_count[['case_cohort', 'Einstein Analytics', \n",
    "                                         'Role Based - Online','Server', 'Saas', \n",
    "                                         'Role Based - On Prem','Services', 'Desktop', \n",
    "                                         'Role Based - NonProd']]\n",
    "cohort_case_size = [len(account_case_count[account_case_count['case_cohort'] == 0]),\n",
    "               len(account_case_count[account_case_count['case_cohort'] == 1]),\n",
    "               len(account_case_count[account_case_count['case_cohort'] == 2]),\n",
    "               len(account_case_count[account_case_count['case_cohort'] == 3]),\n",
    "               len(account_case_count[account_case_count['case_cohort'] == 4]),\n",
    "               len(account_case_count[account_case_count['case_cohort'] == 5])]\n",
    "print(cohort_size)"
   ]
  },
  {
   "cell_type": "code",
   "execution_count": null,
   "metadata": {},
   "outputs": [],
   "source": [
    "case_summary = account_case_count.groupby('case_cohort').sum(['Einstein Analytics', 'Role Based - Online',\n",
    "                                                          'Server', 'Saas', 'Role Based - On Prem',\n",
    "                                                          'Services', 'Desktop', 'Other'])\n",
    "case_summary.drop('count', inplace=True, axis=1)\n",
    "product_use_by_case = case_summary.divide(cohort_case_size, axis=0)\n",
    "#product_use.drop('id', axis=1, inplace=True)\n",
    "product_use_by_case.round(decimals=3)\n",
    "plt.figure(figsize=(10,8))\n",
    "plt.title('Product Useage by Case Cohort')\n",
    "sns.heatmap(data=product_use_by_case, \n",
    "            annot= True,\n",
    "            fmt='.0%',\n",
    "            vmin=0.0,\n",
    "            vmax=0.50,\n",
    "            cmap='PuBu')\n",
    "plt.show()\n"
   ]
  }
 ],
 "metadata": {
  "interpreter": {
   "hash": "31f2aee4e71d21fbe5cf8b01ff0e069b9275f58929596ceb00d14d90e3e16cd6"
  },
  "kernelspec": {
   "display_name": "Python 3.8.9 64-bit",
   "language": "python",
   "name": "python3"
  },
  "language_info": {
   "codemirror_mode": {
    "name": "ipython",
    "version": 3
   },
   "file_extension": ".py",
   "mimetype": "text/x-python",
   "name": "python",
   "nbconvert_exporter": "python",
   "pygments_lexer": "ipython3",
   "version": "3.8.9"
  },
  "orig_nbformat": 4
 },
 "nbformat": 4,
 "nbformat_minor": 2
}
